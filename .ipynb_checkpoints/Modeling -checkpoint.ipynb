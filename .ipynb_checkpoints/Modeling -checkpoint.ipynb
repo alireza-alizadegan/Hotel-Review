{
 "cells": [
  {
   "cell_type": "code",
   "execution_count": null,
   "metadata": {},
   "outputs": [],
   "source": [
    "# define tokenizer function\n",
    "def case_punc_stop_stem(sentence)\n",
    "    # remove punctuation marks and set to lower case\n",
    "    import string\n",
    "    for punctuation_mark in string.punctuation:\n",
    "        sentence = sentence.lower().replace(punctuation_mark, '')\n",
    "    # split sentence into words\n",
    "    words = sentence.split(' ')\n",
    "    # remove stop words & empty strings and lemmatize remaining\n",
    "    \n",
    "    stemmed_words = []\n",
    "    for word in words:\n",
    "        if (not word in stop_words) and (word != '')\n",
    "            stemmed_words.append(stemmer.stem(word))\n",
    "    return stemmed_words"
   ]
  },
  {
   "cell_type": "code",
   "execution_count": null,
   "metadata": {},
   "outputs": [],
   "source": [
    "# define tokenizer function\n",
    "def case_punc_stop_stem(sentence):\n",
    "    # remove punctuation marks and set to lower case\n",
    "    import string\n",
    "    for punctuation_mark in string.punctuation:\n",
    "        sentence = sentence.lower().replace(punctuation_mark, '')\n",
    "    # split sentence into words\n",
    "    words = sentence.split(' ')\n",
    "    # remove stop words and empty strings\n",
    "    import nltk\n",
    "    nltk.download('stopwords')\n",
    "    from nltk.corpus import stopwords \n",
    "    stop_words = stopwords.words('english')\n",
    "    from nltk.stem.wordnet import WordNetLemmatizer\n",
    "    lemmatizer = WordNetLemmatizer()\n",
    "    lemmatized_words = []\n",
    "    for word in words:\n",
    "        if (not word in stop_words) and (word != ''):\n",
    "            # stem remaining words\n",
    "            lemmatized_words.append(lemmatizer.lemmatize(word))\n",
    "    return lemmatized_words"
   ]
  }
 ],
 "metadata": {
  "kernelspec": {
   "display_name": "Python 3",
   "language": "python",
   "name": "python3"
  },
  "language_info": {
   "codemirror_mode": {
    "name": "ipython",
    "version": 3
   },
   "file_extension": ".py",
   "mimetype": "text/x-python",
   "name": "python",
   "nbconvert_exporter": "python",
   "pygments_lexer": "ipython3",
   "version": "3.7.4"
  }
 },
 "nbformat": 4,
 "nbformat_minor": 2
}
