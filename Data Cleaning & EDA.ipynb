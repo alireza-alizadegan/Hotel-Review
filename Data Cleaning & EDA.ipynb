{
 "cells": [
  {
   "cell_type": "code",
   "execution_count": 6,
   "metadata": {},
   "outputs": [],
   "source": [
    "import numpy as np\n",
    "import pandas as pd\n",
    "import matplotlib.pyplot as plt"
   ]
  },
  {
   "cell_type": "code",
   "execution_count": 9,
   "metadata": {
    "scrolled": true
   },
   "outputs": [
    {
     "data": {
      "text/html": [
       "<div>\n",
       "<style scoped>\n",
       "    .dataframe tbody tr th:only-of-type {\n",
       "        vertical-align: middle;\n",
       "    }\n",
       "\n",
       "    .dataframe tbody tr th {\n",
       "        vertical-align: top;\n",
       "    }\n",
       "\n",
       "    .dataframe thead th {\n",
       "        text-align: right;\n",
       "    }\n",
       "</style>\n",
       "<table border=\"1\" class=\"dataframe\">\n",
       "  <thead>\n",
       "    <tr style=\"text-align: right;\">\n",
       "      <th></th>\n",
       "      <th>Hotel_Address</th>\n",
       "      <th>Additional_Number_of_Scoring</th>\n",
       "      <th>Review_Date</th>\n",
       "      <th>Average_Score</th>\n",
       "      <th>Hotel_Name</th>\n",
       "      <th>Reviewer_Nationality</th>\n",
       "      <th>Negative_Review</th>\n",
       "      <th>Review_Total_Negative_Word_Counts</th>\n",
       "      <th>Total_Number_of_Reviews</th>\n",
       "      <th>Positive_Review</th>\n",
       "      <th>Review_Total_Positive_Word_Counts</th>\n",
       "      <th>Total_Number_of_Reviews_Reviewer_Has_Given</th>\n",
       "      <th>Reviewer_Score</th>\n",
       "      <th>Tags</th>\n",
       "      <th>days_since_review</th>\n",
       "      <th>lat</th>\n",
       "      <th>lng</th>\n",
       "    </tr>\n",
       "  </thead>\n",
       "  <tbody>\n",
       "    <tr>\n",
       "      <td>0</td>\n",
       "      <td>1 15 Templeton Place Earl s Court Kensington a...</td>\n",
       "      <td>244</td>\n",
       "      <td>6/30/2017</td>\n",
       "      <td>8.5</td>\n",
       "      <td>K K Hotel George</td>\n",
       "      <td>United Kingdom</td>\n",
       "      <td>Room wasn t ready on arrival after travelling...</td>\n",
       "      <td>94</td>\n",
       "      <td>1831</td>\n",
       "      <td>Fantastic location very clean room someone ca...</td>\n",
       "      <td>23</td>\n",
       "      <td>3</td>\n",
       "      <td>5.8</td>\n",
       "      <td>[' Leisure trip ', ' Couple ', ' Classic Doubl...</td>\n",
       "      <td>34 days</td>\n",
       "      <td>51.491888</td>\n",
       "      <td>-0.194971</td>\n",
       "    </tr>\n",
       "    <tr>\n",
       "      <td>1</td>\n",
       "      <td>1 15 Templeton Place Earl s Court Kensington a...</td>\n",
       "      <td>244</td>\n",
       "      <td>6/27/2017</td>\n",
       "      <td>8.5</td>\n",
       "      <td>K K Hotel George</td>\n",
       "      <td>United Kingdom</td>\n",
       "      <td>Our room allocated wasn t up to our expectati...</td>\n",
       "      <td>40</td>\n",
       "      <td>1831</td>\n",
       "      <td>Breakfast was excellent Staff in the restaura...</td>\n",
       "      <td>25</td>\n",
       "      <td>3</td>\n",
       "      <td>6.7</td>\n",
       "      <td>[' Leisure trip ', ' Group ', ' Classic Triple...</td>\n",
       "      <td>37 days</td>\n",
       "      <td>51.491888</td>\n",
       "      <td>-0.194971</td>\n",
       "    </tr>\n",
       "    <tr>\n",
       "      <td>2</td>\n",
       "      <td>1 15 Templeton Place Earl s Court Kensington a...</td>\n",
       "      <td>244</td>\n",
       "      <td>6/27/2017</td>\n",
       "      <td>8.5</td>\n",
       "      <td>K K Hotel George</td>\n",
       "      <td>United Kingdom</td>\n",
       "      <td>The cooked elements of breakfast could have b...</td>\n",
       "      <td>18</td>\n",
       "      <td>1831</td>\n",
       "      <td>The garden was a bonus Lovely area to have so...</td>\n",
       "      <td>25</td>\n",
       "      <td>12</td>\n",
       "      <td>8.3</td>\n",
       "      <td>[' Leisure trip ', ' Couple ', ' Classic Doubl...</td>\n",
       "      <td>37 days</td>\n",
       "      <td>51.491888</td>\n",
       "      <td>-0.194971</td>\n",
       "    </tr>\n",
       "    <tr>\n",
       "      <td>3</td>\n",
       "      <td>1 15 Templeton Place Earl s Court Kensington a...</td>\n",
       "      <td>244</td>\n",
       "      <td>6/25/2017</td>\n",
       "      <td>8.5</td>\n",
       "      <td>K K Hotel George</td>\n",
       "      <td>United Kingdom</td>\n",
       "      <td>The room was a lot smaller than advertised I ...</td>\n",
       "      <td>155</td>\n",
       "      <td>1831</td>\n",
       "      <td>Great location it s easy to find and incredib...</td>\n",
       "      <td>97</td>\n",
       "      <td>5</td>\n",
       "      <td>7.1</td>\n",
       "      <td>[' Leisure trip ', ' Solo traveler ', ' Classi...</td>\n",
       "      <td>39 days</td>\n",
       "      <td>51.491888</td>\n",
       "      <td>-0.194971</td>\n",
       "    </tr>\n",
       "    <tr>\n",
       "      <td>4</td>\n",
       "      <td>1 15 Templeton Place Earl s Court Kensington a...</td>\n",
       "      <td>244</td>\n",
       "      <td>6/25/2017</td>\n",
       "      <td>8.5</td>\n",
       "      <td>K K Hotel George</td>\n",
       "      <td>United Kingdom</td>\n",
       "      <td>Lower ground floor room L01 possibly the smal...</td>\n",
       "      <td>32</td>\n",
       "      <td>1831</td>\n",
       "      <td>Location first and foremost Lovely gardens</td>\n",
       "      <td>8</td>\n",
       "      <td>2</td>\n",
       "      <td>5.0</td>\n",
       "      <td>[' Leisure trip ', ' Couple ', ' Classic Doubl...</td>\n",
       "      <td>39 days</td>\n",
       "      <td>51.491888</td>\n",
       "      <td>-0.194971</td>\n",
       "    </tr>\n",
       "  </tbody>\n",
       "</table>\n",
       "</div>"
      ],
      "text/plain": [
       "                                       Hotel_Address  \\\n",
       "0  1 15 Templeton Place Earl s Court Kensington a...   \n",
       "1  1 15 Templeton Place Earl s Court Kensington a...   \n",
       "2  1 15 Templeton Place Earl s Court Kensington a...   \n",
       "3  1 15 Templeton Place Earl s Court Kensington a...   \n",
       "4  1 15 Templeton Place Earl s Court Kensington a...   \n",
       "\n",
       "   Additional_Number_of_Scoring Review_Date  Average_Score        Hotel_Name  \\\n",
       "0                           244   6/30/2017            8.5  K K Hotel George   \n",
       "1                           244   6/27/2017            8.5  K K Hotel George   \n",
       "2                           244   6/27/2017            8.5  K K Hotel George   \n",
       "3                           244   6/25/2017            8.5  K K Hotel George   \n",
       "4                           244   6/25/2017            8.5  K K Hotel George   \n",
       "\n",
       "  Reviewer_Nationality                                    Negative_Review  \\\n",
       "0      United Kingdom    Room wasn t ready on arrival after travelling...   \n",
       "1      United Kingdom    Our room allocated wasn t up to our expectati...   \n",
       "2      United Kingdom    The cooked elements of breakfast could have b...   \n",
       "3      United Kingdom    The room was a lot smaller than advertised I ...   \n",
       "4      United Kingdom    Lower ground floor room L01 possibly the smal...   \n",
       "\n",
       "   Review_Total_Negative_Word_Counts  Total_Number_of_Reviews  \\\n",
       "0                                 94                     1831   \n",
       "1                                 40                     1831   \n",
       "2                                 18                     1831   \n",
       "3                                155                     1831   \n",
       "4                                 32                     1831   \n",
       "\n",
       "                                     Positive_Review  \\\n",
       "0   Fantastic location very clean room someone ca...   \n",
       "1   Breakfast was excellent Staff in the restaura...   \n",
       "2   The garden was a bonus Lovely area to have so...   \n",
       "3   Great location it s easy to find and incredib...   \n",
       "4        Location first and foremost Lovely gardens    \n",
       "\n",
       "   Review_Total_Positive_Word_Counts  \\\n",
       "0                                 23   \n",
       "1                                 25   \n",
       "2                                 25   \n",
       "3                                 97   \n",
       "4                                  8   \n",
       "\n",
       "   Total_Number_of_Reviews_Reviewer_Has_Given  Reviewer_Score  \\\n",
       "0                                           3             5.8   \n",
       "1                                           3             6.7   \n",
       "2                                          12             8.3   \n",
       "3                                           5             7.1   \n",
       "4                                           2             5.0   \n",
       "\n",
       "                                                Tags days_since_review  \\\n",
       "0  [' Leisure trip ', ' Couple ', ' Classic Doubl...           34 days   \n",
       "1  [' Leisure trip ', ' Group ', ' Classic Triple...           37 days   \n",
       "2  [' Leisure trip ', ' Couple ', ' Classic Doubl...           37 days   \n",
       "3  [' Leisure trip ', ' Solo traveler ', ' Classi...           39 days   \n",
       "4  [' Leisure trip ', ' Couple ', ' Classic Doubl...           39 days   \n",
       "\n",
       "         lat       lng  \n",
       "0  51.491888 -0.194971  \n",
       "1  51.491888 -0.194971  \n",
       "2  51.491888 -0.194971  \n",
       "3  51.491888 -0.194971  \n",
       "4  51.491888 -0.194971  "
      ]
     },
     "execution_count": 9,
     "metadata": {},
     "output_type": "execute_result"
    }
   ],
   "source": [
    "review_df = pd.read_csv('UK_Hotel_Reviews.csv')\n",
    "review_df.head()"
   ]
  },
  {
   "cell_type": "code",
   "execution_count": 10,
   "metadata": {
    "scrolled": true
   },
   "outputs": [
    {
     "data": {
      "text/plain": [
       "(170649, 17)"
      ]
     },
     "execution_count": 10,
     "metadata": {},
     "output_type": "execute_result"
    }
   ],
   "source": [
    "review_df.shape"
   ]
  },
  {
   "cell_type": "code",
   "execution_count": 13,
   "metadata": {
    "scrolled": true
   },
   "outputs": [],
   "source": [
    "review_df['Reviewer_Score'] = review_df['Reviewer_Score'].round(0)"
   ]
  },
  {
   "cell_type": "code",
   "execution_count": 14,
   "metadata": {
    "scrolled": true
   },
   "outputs": [
    {
     "data": {
      "text/plain": [
       "0          6.0\n",
       "1          7.0\n",
       "2          8.0\n",
       "3          7.0\n",
       "4          5.0\n",
       "          ... \n",
       "170644     7.0\n",
       "170645    10.0\n",
       "170646     5.0\n",
       "170647     9.0\n",
       "170648    10.0\n",
       "Name: Reviewer_Score, Length: 170649, dtype: float64"
      ]
     },
     "execution_count": 14,
     "metadata": {},
     "output_type": "execute_result"
    }
   ],
   "source": [
    "review_df['Reviewer_Score']"
   ]
  },
  {
   "cell_type": "code",
   "execution_count": 19,
   "metadata": {},
   "outputs": [
    {
     "data": {
      "text/plain": [
       "10.0"
      ]
     },
     "execution_count": 19,
     "metadata": {},
     "output_type": "execute_result"
    }
   ],
   "source": [
    "review_df['Reviewer_Score'].max()"
   ]
  },
  {
   "cell_type": "code",
   "execution_count": 18,
   "metadata": {
    "scrolled": true
   },
   "outputs": [
    {
     "data": {
      "text/plain": [
       "2.0"
      ]
     },
     "execution_count": 18,
     "metadata": {},
     "output_type": "execute_result"
    }
   ],
   "source": [
    "review_df['Reviewer_Score'].min()"
   ]
  },
  {
   "cell_type": "code",
   "execution_count": 34,
   "metadata": {
    "scrolled": true
   },
   "outputs": [
    {
     "data": {
      "text/plain": [
       "Reviewer_Nationality\n",
       " United Kingdom     170649\n",
       "Name: Reviewer_Nationality, dtype: int64"
      ]
     },
     "execution_count": 34,
     "metadata": {},
     "output_type": "execute_result"
    }
   ],
   "source": [
    "score_df = review_df['Reviewer_Nationality'].groupby(review_df['Reviewer_Nationality']).count()\n",
    "score_df"
   ]
  },
  {
   "cell_type": "code",
   "execution_count": 32,
   "metadata": {},
   "outputs": [
    {
     "data": {
      "text/plain": [
       "Text(0, 0.5, 'Count')"
      ]
     },
     "execution_count": 32,
     "metadata": {},
     "output_type": "execute_result"
    },
    {
     "data": {
      "image/png": "[encoded data removed]",
      "text/plain": [
       "<Figure size 432x288 with 1 Axes>"
      ]
     },
     "metadata": {
      "needs_background": "light"
     },
     "output_type": "display_data"
    }
   ],
   "source": [
    "plt.bar(score_df.index, score_df);\n",
    "plt.xlabel('Score')\n",
    "plt.ylabel('Count')"
   ]
  },
  {
   "cell_type": "code",
   "execution_count": null,
   "metadata": {},
   "outputs": [],
   "source": [
    "score_df = review_df['Reviewer_Score'].groupby(review_df['Reviewer_Score']).count()\n",
    "score_df"
   ]
  }
 ],
 "metadata": {
  "kernelspec": {
   "display_name": "Python 3",
   "language": "python",
   "name": "python3"
  },
  "language_info": {
   "codemirror_mode": {
    "name": "ipython",
    "version": 3
   },
   "file_extension": ".py",
   "mimetype": "text/x-python",
   "name": "python",
   "nbconvert_exporter": "python",
   "pygments_lexer": "ipython3",
   "version": "3.7.4"
  }
 },
 "nbformat": 4,
 "nbformat_minor": 2
}
