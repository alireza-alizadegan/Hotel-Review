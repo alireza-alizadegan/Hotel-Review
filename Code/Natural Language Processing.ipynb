{
 "cells": [
  {
   "cell_type": "markdown",
   "metadata": {
    "toc": true
   },
   "source": [
    "<h1>Table of Contents<span class=\"tocSkip\"></span></h1>\n",
    "<div class=\"toc\"><ul class=\"toc-item\"><li><span><a href=\"#Table-of-Contents\" data-toc-modified-id=\"Table-of-Contents-1\"><span class=\"toc-item-num\">1&nbsp;&nbsp;</span>Table of Contents</a></span></li><li><span><a href=\"#Hotel-Review-Problem\" data-toc-modified-id=\"Hotel-Review-Problem-2\"><span class=\"toc-item-num\">2&nbsp;&nbsp;</span>Hotel Review Problem</a></span></li><li><span><a href=\"#Exploratory-Data-Analytics\" data-toc-modified-id=\"Exploratory-Data-Analytics-3\"><span class=\"toc-item-num\">3&nbsp;&nbsp;</span>Exploratory Data Analytics</a></span><ul class=\"toc-item\"><li><span><a href=\"#Score-Distribution\" data-toc-modified-id=\"Score-Distribution-3.1\"><span class=\"toc-item-num\">3.1&nbsp;&nbsp;</span>Score Distribution</a></span></li><li><span><a href=\"#Data-Sampling\" data-toc-modified-id=\"Data-Sampling-3.2\"><span class=\"toc-item-num\">3.2&nbsp;&nbsp;</span>Data Sampling</a></span></li><li><span><a href=\"#Binary-Problem\" data-toc-modified-id=\"Binary-Problem-3.3\"><span class=\"toc-item-num\">3.3&nbsp;&nbsp;</span>Binary Problem</a></span></li><li><span><a href=\"#Reference-Accuracy\" data-toc-modified-id=\"Reference-Accuracy-3.4\"><span class=\"toc-item-num\">3.4&nbsp;&nbsp;</span>Reference Accuracy</a></span></li></ul></li><li><span><a href=\"#Data-Cleaning\" data-toc-modified-id=\"Data-Cleaning-4\"><span class=\"toc-item-num\">4&nbsp;&nbsp;</span>Data Cleaning</a></span><ul class=\"toc-item\"><li><span><a href=\"#Non-numeric-Columns\" data-toc-modified-id=\"Non-numeric-Columns-4.1\"><span class=\"toc-item-num\">4.1&nbsp;&nbsp;</span>Non-numeric Columns</a></span></li><li><span><a href=\"#Strings-in-Numeric-Columns\" data-toc-modified-id=\"Strings-in-Numeric-Columns-4.2\"><span class=\"toc-item-num\">4.2&nbsp;&nbsp;</span>Strings in Numeric Columns</a></span></li><li><span><a href=\"#Formatting-for-Modeling\" data-toc-modified-id=\"Formatting-for-Modeling-4.3\"><span class=\"toc-item-num\">4.3&nbsp;&nbsp;</span>Formatting for Modeling</a></span></li><li><span><a href=\"#Train-Test-Split\" data-toc-modified-id=\"Train-Test-Split-4.4\"><span class=\"toc-item-num\">4.4&nbsp;&nbsp;</span>Train-Test Split</a></span></li></ul></li><li><span><a href=\"#Feature-Engineering\" data-toc-modified-id=\"Feature-Engineering-5\"><span class=\"toc-item-num\">5&nbsp;&nbsp;</span>Feature Engineering</a></span><ul class=\"toc-item\"><li><span><a href=\"#Tokenizer-Function\" data-toc-modified-id=\"Tokenizer-Function-5.1\"><span class=\"toc-item-num\">5.1&nbsp;&nbsp;</span>Tokenizer Function</a></span></li><li><span><a href=\"#Text-Vectoization\" data-toc-modified-id=\"Text-Vectoization-5.2\"><span class=\"toc-item-num\">5.2&nbsp;&nbsp;</span>Text Vectoization</a></span></li><li><span><a href=\"#Tokenizer-Validation\" data-toc-modified-id=\"Tokenizer-Validation-5.3\"><span class=\"toc-item-num\">5.3&nbsp;&nbsp;</span>Tokenizer Validation</a></span></li><li><span><a href=\"#Concatination-of-Vectoized-Reviews\" data-toc-modified-id=\"Concatination-of-Vectoized-Reviews-5.4\"><span class=\"toc-item-num\">5.4&nbsp;&nbsp;</span>Concatination of Vectoized Reviews</a></span></li></ul></li><li><span><a href=\"#Logistic-Regression\" data-toc-modified-id=\"Logistic-Regression-6\"><span class=\"toc-item-num\">6&nbsp;&nbsp;</span>Logistic Regression</a></span></li></ul></div>"
   ]
  },
  {
   "cell_type": "markdown",
   "metadata": {},
   "source": [
    "# Hotel Review Problem"
   ]
  },
  {
   "cell_type": "markdown",
   "metadata": {},
   "source": [
    "This project involves cleaning, exploration, and feature engineering of [a hotel review dataset](https://www.kaggle.com/jiashenliu/515k-hotel-reviews-data-in-europe) to create a model that can accurately label the sentiment behind review comments. The dataset was downloaded as csv format and loaded as follows: "
   ]
  },
  {
   "cell_type": "code",
   "execution_count": 1,
   "metadata": {},
   "outputs": [],
   "source": [
    "# NLTK packages\n",
    "# nltk.download('stopwords')\n",
    "# nltk.download('wordnet')"
   ]
  },
  {
   "cell_type": "code",
   "execution_count": 2,
   "metadata": {},
   "outputs": [],
   "source": [
    "# frequently used libraries\n",
    "import numpy as np\n",
    "import pandas as pd\n",
    "import matplotlib.pyplot as plt\n",
    "import warnings\n",
    "warnings.filterwarnings('ignore')\n",
    "\n",
    "# NLP libraries\n",
    "import nltk\n",
    "import string\n",
    "from nltk.corpus import stopwords \n",
    "from nltk.stem import WordNetLemmatizer"
   ]
  },
  {
   "cell_type": "code",
   "execution_count": 3,
   "metadata": {
    "scrolled": true
   },
   "outputs": [],
   "source": [
    "review_df = pd.read_csv('UK_Hotel_Reviews.csv')"
   ]
  },
  {
   "cell_type": "markdown",
   "metadata": {},
   "source": [
    "Table below shows an overview information of the dataset"
   ]
  },
  {
   "cell_type": "code",
   "execution_count": 4,
   "metadata": {
    "scrolled": false
   },
   "outputs": [
    {
     "name": "stdout",
     "output_type": "stream",
     "text": [
      "<class 'pandas.core.frame.DataFrame'>\n",
      "RangeIndex: 170649 entries, 0 to 170648\n",
      "Data columns (total 17 columns):\n",
      "Hotel_Address                                 170649 non-null object\n",
      "Additional_Number_of_Scoring                  170649 non-null int64\n",
      "Review_Date                                   170649 non-null object\n",
      "Average_Score                                 170649 non-null float64\n",
      "Hotel_Name                                    170649 non-null object\n",
      "Reviewer_Nationality                          170649 non-null object\n",
      "Negative_Review                               170649 non-null object\n",
      "Review_Total_Negative_Word_Counts             170649 non-null int64\n",
      "Total_Number_of_Reviews                       170649 non-null int64\n",
      "Positive_Review                               170649 non-null object\n",
      "Review_Total_Positive_Word_Counts             170649 non-null int64\n",
      "Total_Number_of_Reviews_Reviewer_Has_Given    170649 non-null int64\n",
      "Reviewer_Score                                170649 non-null float64\n",
      "Tags                                          170649 non-null object\n",
      "days_since_review                             170649 non-null object\n",
      "lat                                           170649 non-null float64\n",
      "lng                                           170649 non-null float64\n",
      "dtypes: float64(4), int64(5), object(8)\n",
      "memory usage: 22.1+ MB\n"
     ]
    }
   ],
   "source": [
    "review_df.info()"
   ]
  },
  {
   "cell_type": "markdown",
   "metadata": {},
   "source": [
    "The dataset has 17 features and 170649 observations. Some columns have integer variable type (e.g., Additional_Number_of_Scoring) while others are in form of text."
   ]
  },
  {
   "cell_type": "markdown",
   "metadata": {},
   "source": [
    "The table below shows content of the table for five first observations:"
   ]
  },
  {
   "cell_type": "code",
   "execution_count": 5,
   "metadata": {},
   "outputs": [
    {
     "data": {
      "text/html": [
       "<div>\n",
       "<style scoped>\n",
       "    .dataframe tbody tr th:only-of-type {\n",
       "        vertical-align: middle;\n",
       "    }\n",
       "\n",
       "    .dataframe tbody tr th {\n",
       "        vertical-align: top;\n",
       "    }\n",
       "\n",
       "    .dataframe thead th {\n",
       "        text-align: right;\n",
       "    }\n",
       "</style>\n",
       "<table border=\"1\" class=\"dataframe\">\n",
       "  <thead>\n",
       "    <tr style=\"text-align: right;\">\n",
       "      <th></th>\n",
       "      <th>Hotel_Address</th>\n",
       "      <th>Additional_Number_of_Scoring</th>\n",
       "      <th>Review_Date</th>\n",
       "      <th>Average_Score</th>\n",
       "      <th>Hotel_Name</th>\n",
       "      <th>Reviewer_Nationality</th>\n",
       "      <th>Negative_Review</th>\n",
       "      <th>Review_Total_Negative_Word_Counts</th>\n",
       "      <th>Total_Number_of_Reviews</th>\n",
       "      <th>Positive_Review</th>\n",
       "      <th>Review_Total_Positive_Word_Counts</th>\n",
       "      <th>Total_Number_of_Reviews_Reviewer_Has_Given</th>\n",
       "      <th>Reviewer_Score</th>\n",
       "      <th>Tags</th>\n",
       "      <th>days_since_review</th>\n",
       "      <th>lat</th>\n",
       "      <th>lng</th>\n",
       "    </tr>\n",
       "  </thead>\n",
       "  <tbody>\n",
       "    <tr>\n",
       "      <td>0</td>\n",
       "      <td>1 15 Templeton Place Earl s Court Kensington a...</td>\n",
       "      <td>244</td>\n",
       "      <td>6/30/2017</td>\n",
       "      <td>8.5</td>\n",
       "      <td>K K Hotel George</td>\n",
       "      <td>United Kingdom</td>\n",
       "      <td>Room wasn t ready on arrival after travelling...</td>\n",
       "      <td>94</td>\n",
       "      <td>1831</td>\n",
       "      <td>Fantastic location very clean room someone ca...</td>\n",
       "      <td>23</td>\n",
       "      <td>3</td>\n",
       "      <td>5.8</td>\n",
       "      <td>[' Leisure trip ', ' Couple ', ' Classic Doubl...</td>\n",
       "      <td>34 days</td>\n",
       "      <td>51.491888</td>\n",
       "      <td>-0.194971</td>\n",
       "    </tr>\n",
       "    <tr>\n",
       "      <td>1</td>\n",
       "      <td>1 15 Templeton Place Earl s Court Kensington a...</td>\n",
       "      <td>244</td>\n",
       "      <td>6/27/2017</td>\n",
       "      <td>8.5</td>\n",
       "      <td>K K Hotel George</td>\n",
       "      <td>United Kingdom</td>\n",
       "      <td>Our room allocated wasn t up to our expectati...</td>\n",
       "      <td>40</td>\n",
       "      <td>1831</td>\n",
       "      <td>Breakfast was excellent Staff in the restaura...</td>\n",
       "      <td>25</td>\n",
       "      <td>3</td>\n",
       "      <td>6.7</td>\n",
       "      <td>[' Leisure trip ', ' Group ', ' Classic Triple...</td>\n",
       "      <td>37 days</td>\n",
       "      <td>51.491888</td>\n",
       "      <td>-0.194971</td>\n",
       "    </tr>\n",
       "    <tr>\n",
       "      <td>2</td>\n",
       "      <td>1 15 Templeton Place Earl s Court Kensington a...</td>\n",
       "      <td>244</td>\n",
       "      <td>6/27/2017</td>\n",
       "      <td>8.5</td>\n",
       "      <td>K K Hotel George</td>\n",
       "      <td>United Kingdom</td>\n",
       "      <td>The cooked elements of breakfast could have b...</td>\n",
       "      <td>18</td>\n",
       "      <td>1831</td>\n",
       "      <td>The garden was a bonus Lovely area to have so...</td>\n",
       "      <td>25</td>\n",
       "      <td>12</td>\n",
       "      <td>8.3</td>\n",
       "      <td>[' Leisure trip ', ' Couple ', ' Classic Doubl...</td>\n",
       "      <td>37 days</td>\n",
       "      <td>51.491888</td>\n",
       "      <td>-0.194971</td>\n",
       "    </tr>\n",
       "    <tr>\n",
       "      <td>3</td>\n",
       "      <td>1 15 Templeton Place Earl s Court Kensington a...</td>\n",
       "      <td>244</td>\n",
       "      <td>6/25/2017</td>\n",
       "      <td>8.5</td>\n",
       "      <td>K K Hotel George</td>\n",
       "      <td>United Kingdom</td>\n",
       "      <td>The room was a lot smaller than advertised I ...</td>\n",
       "      <td>155</td>\n",
       "      <td>1831</td>\n",
       "      <td>Great location it s easy to find and incredib...</td>\n",
       "      <td>97</td>\n",
       "      <td>5</td>\n",
       "      <td>7.1</td>\n",
       "      <td>[' Leisure trip ', ' Solo traveler ', ' Classi...</td>\n",
       "      <td>39 days</td>\n",
       "      <td>51.491888</td>\n",
       "      <td>-0.194971</td>\n",
       "    </tr>\n",
       "    <tr>\n",
       "      <td>4</td>\n",
       "      <td>1 15 Templeton Place Earl s Court Kensington a...</td>\n",
       "      <td>244</td>\n",
       "      <td>6/25/2017</td>\n",
       "      <td>8.5</td>\n",
       "      <td>K K Hotel George</td>\n",
       "      <td>United Kingdom</td>\n",
       "      <td>Lower ground floor room L01 possibly the smal...</td>\n",
       "      <td>32</td>\n",
       "      <td>1831</td>\n",
       "      <td>Location first and foremost Lovely gardens</td>\n",
       "      <td>8</td>\n",
       "      <td>2</td>\n",
       "      <td>5.0</td>\n",
       "      <td>[' Leisure trip ', ' Couple ', ' Classic Doubl...</td>\n",
       "      <td>39 days</td>\n",
       "      <td>51.491888</td>\n",
       "      <td>-0.194971</td>\n",
       "    </tr>\n",
       "  </tbody>\n",
       "</table>\n",
       "</div>"
      ],
      "text/plain": [
       "                                       Hotel_Address  \\\n",
       "0  1 15 Templeton Place Earl s Court Kensington a...   \n",
       "1  1 15 Templeton Place Earl s Court Kensington a...   \n",
       "2  1 15 Templeton Place Earl s Court Kensington a...   \n",
       "3  1 15 Templeton Place Earl s Court Kensington a...   \n",
       "4  1 15 Templeton Place Earl s Court Kensington a...   \n",
       "\n",
       "   Additional_Number_of_Scoring Review_Date  Average_Score        Hotel_Name  \\\n",
       "0                           244   6/30/2017            8.5  K K Hotel George   \n",
       "1                           244   6/27/2017            8.5  K K Hotel George   \n",
       "2                           244   6/27/2017            8.5  K K Hotel George   \n",
       "3                           244   6/25/2017            8.5  K K Hotel George   \n",
       "4                           244   6/25/2017            8.5  K K Hotel George   \n",
       "\n",
       "  Reviewer_Nationality                                    Negative_Review  \\\n",
       "0      United Kingdom    Room wasn t ready on arrival after travelling...   \n",
       "1      United Kingdom    Our room allocated wasn t up to our expectati...   \n",
       "2      United Kingdom    The cooked elements of breakfast could have b...   \n",
       "3      United Kingdom    The room was a lot smaller than advertised I ...   \n",
       "4      United Kingdom    Lower ground floor room L01 possibly the smal...   \n",
       "\n",
       "   Review_Total_Negative_Word_Counts  Total_Number_of_Reviews  \\\n",
       "0                                 94                     1831   \n",
       "1                                 40                     1831   \n",
       "2                                 18                     1831   \n",
       "3                                155                     1831   \n",
       "4                                 32                     1831   \n",
       "\n",
       "                                     Positive_Review  \\\n",
       "0   Fantastic location very clean room someone ca...   \n",
       "1   Breakfast was excellent Staff in the restaura...   \n",
       "2   The garden was a bonus Lovely area to have so...   \n",
       "3   Great location it s easy to find and incredib...   \n",
       "4        Location first and foremost Lovely gardens    \n",
       "\n",
       "   Review_Total_Positive_Word_Counts  \\\n",
       "0                                 23   \n",
       "1                                 25   \n",
       "2                                 25   \n",
       "3                                 97   \n",
       "4                                  8   \n",
       "\n",
       "   Total_Number_of_Reviews_Reviewer_Has_Given  Reviewer_Score  \\\n",
       "0                                           3             5.8   \n",
       "1                                           3             6.7   \n",
       "2                                          12             8.3   \n",
       "3                                           5             7.1   \n",
       "4                                           2             5.0   \n",
       "\n",
       "                                                Tags days_since_review  \\\n",
       "0  [' Leisure trip ', ' Couple ', ' Classic Doubl...           34 days   \n",
       "1  [' Leisure trip ', ' Group ', ' Classic Triple...           37 days   \n",
       "2  [' Leisure trip ', ' Couple ', ' Classic Doubl...           37 days   \n",
       "3  [' Leisure trip ', ' Solo traveler ', ' Classi...           39 days   \n",
       "4  [' Leisure trip ', ' Couple ', ' Classic Doubl...           39 days   \n",
       "\n",
       "         lat       lng  \n",
       "0  51.491888 -0.194971  \n",
       "1  51.491888 -0.194971  \n",
       "2  51.491888 -0.194971  \n",
       "3  51.491888 -0.194971  \n",
       "4  51.491888 -0.194971  "
      ]
     },
     "execution_count": 5,
     "metadata": {},
     "output_type": "execute_result"
    }
   ],
   "source": [
    "review_df.head()"
   ]
  },
  {
   "cell_type": "markdown",
   "metadata": {},
   "source": [
    "# Exploratory Data Analytics"
   ]
  },
  {
   "cell_type": "markdown",
   "metadata": {},
   "source": [
    "This section peforms exploratory analytics on the dataset. The analytics involves couting the number of reviews for each score and using them to create a baseline for accuracy of predictions."
   ]
  },
  {
   "cell_type": "markdown",
   "metadata": {},
   "source": [
    "## Score Distribution"
   ]
  },
  {
   "cell_type": "markdown",
   "metadata": {},
   "source": [
    "Since the objective is to label the sentiments, distribution of the labels have been investigated. The table shows that reviewer scores are in float format, so they have been rounded to the closest integer value to create a finite number of distinct categories "
   ]
  },
  {
   "cell_type": "code",
   "execution_count": 6,
   "metadata": {
    "scrolled": true
   },
   "outputs": [],
   "source": [
    "review_df['Reviewer_Score'] = review_df['Reviewer_Score'].round(0).astype(int)"
   ]
  },
  {
   "cell_type": "markdown",
   "metadata": {},
   "source": [
    "Below bar chart shows number of reviews in each review score category"
   ]
  },
  {
   "cell_type": "code",
   "execution_count": 7,
   "metadata": {},
   "outputs": [
    {
     "data": {
      "image/png": "[encoded data removed]",
      "text/plain": [
       "<Figure size 432x288 with 1 Axes>"
      ]
     },
     "metadata": {
      "needs_background": "light"
     },
     "output_type": "display_data"
    }
   ],
   "source": [
    "plt.bar(review_df['Reviewer_Score'].value_counts().index, review_df['Reviewer_Score'].value_counts().values)\n",
    "plt.title('Distribution of Dataset Review Scores')\n",
    "plt.xlabel('Score')\n",
    "plt.ylabel('Count')\n",
    "plt.xticks(review_df['Reviewer_Score'].value_counts().index);"
   ]
  },
  {
   "cell_type": "markdown",
   "metadata": {},
   "source": [
    "The data is imbalanced because the number of higher scores are by far larger than lower scores."
   ]
  },
  {
   "cell_type": "markdown",
   "metadata": {},
   "source": [
    "## Data Sampling"
   ]
  },
  {
   "cell_type": "markdown",
   "metadata": {},
   "source": [
    "To mitigate the computation cost, 10% of the observations are randomly chosen for analysis as follows:"
   ]
  },
  {
   "cell_type": "code",
   "execution_count": 8,
   "metadata": {},
   "outputs": [],
   "source": [
    "sample_df = review_df.sample(frac=0.1, random_state=42)"
   ]
  },
  {
   "cell_type": "code",
   "execution_count": 9,
   "metadata": {},
   "outputs": [
    {
     "data": {
      "text/html": [
       "<div>\n",
       "<style scoped>\n",
       "    .dataframe tbody tr th:only-of-type {\n",
       "        vertical-align: middle;\n",
       "    }\n",
       "\n",
       "    .dataframe tbody tr th {\n",
       "        vertical-align: top;\n",
       "    }\n",
       "\n",
       "    .dataframe thead th {\n",
       "        text-align: right;\n",
       "    }\n",
       "</style>\n",
       "<table border=\"1\" class=\"dataframe\">\n",
       "  <thead>\n",
       "    <tr style=\"text-align: right;\">\n",
       "      <th></th>\n",
       "      <th>Hotel_Address</th>\n",
       "      <th>Additional_Number_of_Scoring</th>\n",
       "      <th>Review_Date</th>\n",
       "      <th>Average_Score</th>\n",
       "      <th>Hotel_Name</th>\n",
       "      <th>Reviewer_Nationality</th>\n",
       "      <th>Negative_Review</th>\n",
       "      <th>Review_Total_Negative_Word_Counts</th>\n",
       "      <th>Total_Number_of_Reviews</th>\n",
       "      <th>Positive_Review</th>\n",
       "      <th>Review_Total_Positive_Word_Counts</th>\n",
       "      <th>Total_Number_of_Reviews_Reviewer_Has_Given</th>\n",
       "      <th>Reviewer_Score</th>\n",
       "      <th>Tags</th>\n",
       "      <th>days_since_review</th>\n",
       "      <th>lat</th>\n",
       "      <th>lng</th>\n",
       "    </tr>\n",
       "  </thead>\n",
       "  <tbody>\n",
       "    <tr>\n",
       "      <td>52538</td>\n",
       "      <td>22 25 Finsbury Square City Islington London EC...</td>\n",
       "      <td>461</td>\n",
       "      <td>4/18/2017</td>\n",
       "      <td>9.2</td>\n",
       "      <td>Montcalm Royal London House City of London</td>\n",
       "      <td>United Kingdom</td>\n",
       "      <td>The shower could have been warmer</td>\n",
       "      <td>8</td>\n",
       "      <td>1592</td>\n",
       "      <td>Excellent facilities and use of technology in...</td>\n",
       "      <td>15</td>\n",
       "      <td>2</td>\n",
       "      <td>10</td>\n",
       "      <td>[' Leisure trip ', ' Group ', ' Deluxe Double ...</td>\n",
       "      <td>107 day</td>\n",
       "      <td>51.521807</td>\n",
       "      <td>-0.085608</td>\n",
       "    </tr>\n",
       "    <tr>\n",
       "      <td>37915</td>\n",
       "      <td>18 30 Lexham Gardens Kensington and Chelsea Lo...</td>\n",
       "      <td>137</td>\n",
       "      <td>11/26/2015</td>\n",
       "      <td>8.3</td>\n",
       "      <td>The Park City Grand Plaza Kensington Hotel</td>\n",
       "      <td>United Kingdom</td>\n",
       "      <td>Overpriced for the facilities received Cracks...</td>\n",
       "      <td>28</td>\n",
       "      <td>667</td>\n",
       "      <td>Comfortable bed and lovely sized room great view</td>\n",
       "      <td>9</td>\n",
       "      <td>3</td>\n",
       "      <td>7</td>\n",
       "      <td>[' Leisure trip ', ' Couple ', ' Executive Dou...</td>\n",
       "      <td>616 day</td>\n",
       "      <td>51.495498</td>\n",
       "      <td>-0.189369</td>\n",
       "    </tr>\n",
       "    <tr>\n",
       "      <td>107742</td>\n",
       "      <td>6 Holywell Lane Hackney London EC2A 3ET United...</td>\n",
       "      <td>500</td>\n",
       "      <td>7/3/2017</td>\n",
       "      <td>9.1</td>\n",
       "      <td>citizenM London Shoreditch</td>\n",
       "      <td>United Kingdom</td>\n",
       "      <td>No Negative</td>\n",
       "      <td>0</td>\n",
       "      <td>2113</td>\n",
       "      <td>lovely clean comfy bed upto date media food l...</td>\n",
       "      <td>28</td>\n",
       "      <td>13</td>\n",
       "      <td>10</td>\n",
       "      <td>[' Leisure trip ', ' Couple ', ' Double Room '...</td>\n",
       "      <td>31 days</td>\n",
       "      <td>51.524137</td>\n",
       "      <td>-0.078698</td>\n",
       "    </tr>\n",
       "    <tr>\n",
       "      <td>109161</td>\n",
       "      <td>61 Lincoln s Inn Fields Camden London WC2A 3JW...</td>\n",
       "      <td>681</td>\n",
       "      <td>9/15/2015</td>\n",
       "      <td>8.9</td>\n",
       "      <td>Club Quarters Hotel Lincoln s Inn Fields</td>\n",
       "      <td>United Kingdom</td>\n",
       "      <td>Room was very close to the lift hence a lot o...</td>\n",
       "      <td>17</td>\n",
       "      <td>2692</td>\n",
       "      <td>Fantastic welcome by the staff and a thoughtf...</td>\n",
       "      <td>32</td>\n",
       "      <td>1</td>\n",
       "      <td>9</td>\n",
       "      <td>[' Leisure trip ', ' Group ', ' Superior Queen...</td>\n",
       "      <td>688 day</td>\n",
       "      <td>51.516099</td>\n",
       "      <td>-0.118175</td>\n",
       "    </tr>\n",
       "    <tr>\n",
       "      <td>17848</td>\n",
       "      <td>11 12 Poplar Mews Shepherd s Bush Hammersmith ...</td>\n",
       "      <td>227</td>\n",
       "      <td>11/20/2016</td>\n",
       "      <td>8.0</td>\n",
       "      <td>Shepherd s Bush Boutique Hotel</td>\n",
       "      <td>United Kingdom</td>\n",
       "      <td>Even the King bedroom was tiny reception was ...</td>\n",
       "      <td>47</td>\n",
       "      <td>1069</td>\n",
       "      <td>An excellent location to see a show at the Em...</td>\n",
       "      <td>24</td>\n",
       "      <td>10</td>\n",
       "      <td>8</td>\n",
       "      <td>[' Business trip ', ' Couple ', ' King Room ',...</td>\n",
       "      <td>256 day</td>\n",
       "      <td>51.505454</td>\n",
       "      <td>-0.226222</td>\n",
       "    </tr>\n",
       "  </tbody>\n",
       "</table>\n",
       "</div>"
      ],
      "text/plain": [
       "                                            Hotel_Address  \\\n",
       "52538   22 25 Finsbury Square City Islington London EC...   \n",
       "37915   18 30 Lexham Gardens Kensington and Chelsea Lo...   \n",
       "107742  6 Holywell Lane Hackney London EC2A 3ET United...   \n",
       "109161  61 Lincoln s Inn Fields Camden London WC2A 3JW...   \n",
       "17848   11 12 Poplar Mews Shepherd s Bush Hammersmith ...   \n",
       "\n",
       "        Additional_Number_of_Scoring Review_Date  Average_Score  \\\n",
       "52538                            461   4/18/2017            9.2   \n",
       "37915                            137  11/26/2015            8.3   \n",
       "107742                           500    7/3/2017            9.1   \n",
       "109161                           681   9/15/2015            8.9   \n",
       "17848                            227  11/20/2016            8.0   \n",
       "\n",
       "                                        Hotel_Name Reviewer_Nationality  \\\n",
       "52538   Montcalm Royal London House City of London      United Kingdom    \n",
       "37915   The Park City Grand Plaza Kensington Hotel      United Kingdom    \n",
       "107742                  citizenM London Shoreditch      United Kingdom    \n",
       "109161    Club Quarters Hotel Lincoln s Inn Fields      United Kingdom    \n",
       "17848               Shepherd s Bush Boutique Hotel      United Kingdom    \n",
       "\n",
       "                                          Negative_Review  \\\n",
       "52538                  The shower could have been warmer    \n",
       "37915    Overpriced for the facilities received Cracks...   \n",
       "107742                                        No Negative   \n",
       "109161   Room was very close to the lift hence a lot o...   \n",
       "17848    Even the King bedroom was tiny reception was ...   \n",
       "\n",
       "        Review_Total_Negative_Word_Counts  Total_Number_of_Reviews  \\\n",
       "52538                                   8                     1592   \n",
       "37915                                  28                      667   \n",
       "107742                                  0                     2113   \n",
       "109161                                 17                     2692   \n",
       "17848                                  47                     1069   \n",
       "\n",
       "                                          Positive_Review  \\\n",
       "52538    Excellent facilities and use of technology in...   \n",
       "37915    Comfortable bed and lovely sized room great view   \n",
       "107742   lovely clean comfy bed upto date media food l...   \n",
       "109161   Fantastic welcome by the staff and a thoughtf...   \n",
       "17848    An excellent location to see a show at the Em...   \n",
       "\n",
       "        Review_Total_Positive_Word_Counts  \\\n",
       "52538                                  15   \n",
       "37915                                   9   \n",
       "107742                                 28   \n",
       "109161                                 32   \n",
       "17848                                  24   \n",
       "\n",
       "        Total_Number_of_Reviews_Reviewer_Has_Given  Reviewer_Score  \\\n",
       "52538                                            2              10   \n",
       "37915                                            3               7   \n",
       "107742                                          13              10   \n",
       "109161                                           1               9   \n",
       "17848                                           10               8   \n",
       "\n",
       "                                                     Tags days_since_review  \\\n",
       "52538   [' Leisure trip ', ' Group ', ' Deluxe Double ...           107 day   \n",
       "37915   [' Leisure trip ', ' Couple ', ' Executive Dou...           616 day   \n",
       "107742  [' Leisure trip ', ' Couple ', ' Double Room '...           31 days   \n",
       "109161  [' Leisure trip ', ' Group ', ' Superior Queen...           688 day   \n",
       "17848   [' Business trip ', ' Couple ', ' King Room ',...           256 day   \n",
       "\n",
       "              lat       lng  \n",
       "52538   51.521807 -0.085608  \n",
       "37915   51.495498 -0.189369  \n",
       "107742  51.524137 -0.078698  \n",
       "109161  51.516099 -0.118175  \n",
       "17848   51.505454 -0.226222  "
      ]
     },
     "execution_count": 9,
     "metadata": {},
     "output_type": "execute_result"
    }
   ],
   "source": [
    "sample_df.head()"
   ]
  },
  {
   "cell_type": "markdown",
   "metadata": {},
   "source": [
    "To validate similarities between information in sample with information in dataset, bar chart of scores is repeated for sample as follows:"
   ]
  },
  {
   "cell_type": "code",
   "execution_count": 10,
   "metadata": {
    "scrolled": false
   },
   "outputs": [
    {
     "data": {
      "image/png": "[encoded data removed]",
      "text/plain": [
       "<Figure size 432x288 with 1 Axes>"
      ]
     },
     "metadata": {
      "needs_background": "light"
     },
     "output_type": "display_data"
    }
   ],
   "source": [
    "plt.bar(sample_df['Reviewer_Score'].value_counts().index, sample_df['Reviewer_Score'].value_counts().values)\n",
    "plt.title('Distribution of Sample Review Scores')\n",
    "plt.xlabel('Score')\n",
    "plt.ylabel('Count')\n",
    "plt.xticks(sample_df['Reviewer_Score'].value_counts().index);"
   ]
  },
  {
   "cell_type": "markdown",
   "metadata": {},
   "source": [
    "The count of scores is in general 10 folds lower than the original dataset, but the pattern for different categories is identical."
   ]
  },
  {
   "cell_type": "markdown",
   "metadata": {},
   "source": [
    "## Binary Problem"
   ]
  },
  {
   "cell_type": "markdown",
   "metadata": {},
   "source": [
    "To evaluate the model, the 10-class classification problem is simplified to a 0-1 binary classification. The reviews with scores 9 and 10 are grouped together and labled as 1 while reviews with score less than 9 are labeled as 0."
   ]
  },
  {
   "cell_type": "code",
   "execution_count": 11,
   "metadata": {
    "scrolled": false
   },
   "outputs": [
    {
     "data": {
      "text/html": [
       "<div>\n",
       "<style scoped>\n",
       "    .dataframe tbody tr th:only-of-type {\n",
       "        vertical-align: middle;\n",
       "    }\n",
       "\n",
       "    .dataframe tbody tr th {\n",
       "        vertical-align: top;\n",
       "    }\n",
       "\n",
       "    .dataframe thead th {\n",
       "        text-align: right;\n",
       "    }\n",
       "</style>\n",
       "<table border=\"1\" class=\"dataframe\">\n",
       "  <thead>\n",
       "    <tr style=\"text-align: right;\">\n",
       "      <th></th>\n",
       "      <th>Hotel_Address</th>\n",
       "      <th>Additional_Number_of_Scoring</th>\n",
       "      <th>Review_Date</th>\n",
       "      <th>Average_Score</th>\n",
       "      <th>Hotel_Name</th>\n",
       "      <th>Reviewer_Nationality</th>\n",
       "      <th>Negative_Review</th>\n",
       "      <th>Review_Total_Negative_Word_Counts</th>\n",
       "      <th>Total_Number_of_Reviews</th>\n",
       "      <th>Positive_Review</th>\n",
       "      <th>Review_Total_Positive_Word_Counts</th>\n",
       "      <th>Total_Number_of_Reviews_Reviewer_Has_Given</th>\n",
       "      <th>Reviewer_Score</th>\n",
       "      <th>Tags</th>\n",
       "      <th>days_since_review</th>\n",
       "      <th>lat</th>\n",
       "      <th>lng</th>\n",
       "    </tr>\n",
       "  </thead>\n",
       "  <tbody>\n",
       "    <tr>\n",
       "      <td>52538</td>\n",
       "      <td>22 25 Finsbury Square City Islington London EC...</td>\n",
       "      <td>461</td>\n",
       "      <td>4/18/2017</td>\n",
       "      <td>9.2</td>\n",
       "      <td>Montcalm Royal London House City of London</td>\n",
       "      <td>United Kingdom</td>\n",
       "      <td>The shower could have been warmer</td>\n",
       "      <td>8</td>\n",
       "      <td>1592</td>\n",
       "      <td>Excellent facilities and use of technology in...</td>\n",
       "      <td>15</td>\n",
       "      <td>2</td>\n",
       "      <td>1</td>\n",
       "      <td>[' Leisure trip ', ' Group ', ' Deluxe Double ...</td>\n",
       "      <td>107 day</td>\n",
       "      <td>51.521807</td>\n",
       "      <td>-0.085608</td>\n",
       "    </tr>\n",
       "    <tr>\n",
       "      <td>37915</td>\n",
       "      <td>18 30 Lexham Gardens Kensington and Chelsea Lo...</td>\n",
       "      <td>137</td>\n",
       "      <td>11/26/2015</td>\n",
       "      <td>8.3</td>\n",
       "      <td>The Park City Grand Plaza Kensington Hotel</td>\n",
       "      <td>United Kingdom</td>\n",
       "      <td>Overpriced for the facilities received Cracks...</td>\n",
       "      <td>28</td>\n",
       "      <td>667</td>\n",
       "      <td>Comfortable bed and lovely sized room great view</td>\n",
       "      <td>9</td>\n",
       "      <td>3</td>\n",
       "      <td>0</td>\n",
       "      <td>[' Leisure trip ', ' Couple ', ' Executive Dou...</td>\n",
       "      <td>616 day</td>\n",
       "      <td>51.495498</td>\n",
       "      <td>-0.189369</td>\n",
       "    </tr>\n",
       "    <tr>\n",
       "      <td>107742</td>\n",
       "      <td>6 Holywell Lane Hackney London EC2A 3ET United...</td>\n",
       "      <td>500</td>\n",
       "      <td>7/3/2017</td>\n",
       "      <td>9.1</td>\n",
       "      <td>citizenM London Shoreditch</td>\n",
       "      <td>United Kingdom</td>\n",
       "      <td>No Negative</td>\n",
       "      <td>0</td>\n",
       "      <td>2113</td>\n",
       "      <td>lovely clean comfy bed upto date media food l...</td>\n",
       "      <td>28</td>\n",
       "      <td>13</td>\n",
       "      <td>1</td>\n",
       "      <td>[' Leisure trip ', ' Couple ', ' Double Room '...</td>\n",
       "      <td>31 days</td>\n",
       "      <td>51.524137</td>\n",
       "      <td>-0.078698</td>\n",
       "    </tr>\n",
       "    <tr>\n",
       "      <td>109161</td>\n",
       "      <td>61 Lincoln s Inn Fields Camden London WC2A 3JW...</td>\n",
       "      <td>681</td>\n",
       "      <td>9/15/2015</td>\n",
       "      <td>8.9</td>\n",
       "      <td>Club Quarters Hotel Lincoln s Inn Fields</td>\n",
       "      <td>United Kingdom</td>\n",
       "      <td>Room was very close to the lift hence a lot o...</td>\n",
       "      <td>17</td>\n",
       "      <td>2692</td>\n",
       "      <td>Fantastic welcome by the staff and a thoughtf...</td>\n",
       "      <td>32</td>\n",
       "      <td>1</td>\n",
       "      <td>1</td>\n",
       "      <td>[' Leisure trip ', ' Group ', ' Superior Queen...</td>\n",
       "      <td>688 day</td>\n",
       "      <td>51.516099</td>\n",
       "      <td>-0.118175</td>\n",
       "    </tr>\n",
       "    <tr>\n",
       "      <td>17848</td>\n",
       "      <td>11 12 Poplar Mews Shepherd s Bush Hammersmith ...</td>\n",
       "      <td>227</td>\n",
       "      <td>11/20/2016</td>\n",
       "      <td>8.0</td>\n",
       "      <td>Shepherd s Bush Boutique Hotel</td>\n",
       "      <td>United Kingdom</td>\n",
       "      <td>Even the King bedroom was tiny reception was ...</td>\n",
       "      <td>47</td>\n",
       "      <td>1069</td>\n",
       "      <td>An excellent location to see a show at the Em...</td>\n",
       "      <td>24</td>\n",
       "      <td>10</td>\n",
       "      <td>0</td>\n",
       "      <td>[' Business trip ', ' Couple ', ' King Room ',...</td>\n",
       "      <td>256 day</td>\n",
       "      <td>51.505454</td>\n",
       "      <td>-0.226222</td>\n",
       "    </tr>\n",
       "  </tbody>\n",
       "</table>\n",
       "</div>"
      ],
      "text/plain": [
       "                                            Hotel_Address  \\\n",
       "52538   22 25 Finsbury Square City Islington London EC...   \n",
       "37915   18 30 Lexham Gardens Kensington and Chelsea Lo...   \n",
       "107742  6 Holywell Lane Hackney London EC2A 3ET United...   \n",
       "109161  61 Lincoln s Inn Fields Camden London WC2A 3JW...   \n",
       "17848   11 12 Poplar Mews Shepherd s Bush Hammersmith ...   \n",
       "\n",
       "        Additional_Number_of_Scoring Review_Date  Average_Score  \\\n",
       "52538                            461   4/18/2017            9.2   \n",
       "37915                            137  11/26/2015            8.3   \n",
       "107742                           500    7/3/2017            9.1   \n",
       "109161                           681   9/15/2015            8.9   \n",
       "17848                            227  11/20/2016            8.0   \n",
       "\n",
       "                                        Hotel_Name Reviewer_Nationality  \\\n",
       "52538   Montcalm Royal London House City of London      United Kingdom    \n",
       "37915   The Park City Grand Plaza Kensington Hotel      United Kingdom    \n",
       "107742                  citizenM London Shoreditch      United Kingdom    \n",
       "109161    Club Quarters Hotel Lincoln s Inn Fields      United Kingdom    \n",
       "17848               Shepherd s Bush Boutique Hotel      United Kingdom    \n",
       "\n",
       "                                          Negative_Review  \\\n",
       "52538                  The shower could have been warmer    \n",
       "37915    Overpriced for the facilities received Cracks...   \n",
       "107742                                        No Negative   \n",
       "109161   Room was very close to the lift hence a lot o...   \n",
       "17848    Even the King bedroom was tiny reception was ...   \n",
       "\n",
       "        Review_Total_Negative_Word_Counts  Total_Number_of_Reviews  \\\n",
       "52538                                   8                     1592   \n",
       "37915                                  28                      667   \n",
       "107742                                  0                     2113   \n",
       "109161                                 17                     2692   \n",
       "17848                                  47                     1069   \n",
       "\n",
       "                                          Positive_Review  \\\n",
       "52538    Excellent facilities and use of technology in...   \n",
       "37915    Comfortable bed and lovely sized room great view   \n",
       "107742   lovely clean comfy bed upto date media food l...   \n",
       "109161   Fantastic welcome by the staff and a thoughtf...   \n",
       "17848    An excellent location to see a show at the Em...   \n",
       "\n",
       "        Review_Total_Positive_Word_Counts  \\\n",
       "52538                                  15   \n",
       "37915                                   9   \n",
       "107742                                 28   \n",
       "109161                                 32   \n",
       "17848                                  24   \n",
       "\n",
       "        Total_Number_of_Reviews_Reviewer_Has_Given  Reviewer_Score  \\\n",
       "52538                                            2               1   \n",
       "37915                                            3               0   \n",
       "107742                                          13               1   \n",
       "109161                                           1               1   \n",
       "17848                                           10               0   \n",
       "\n",
       "                                                     Tags days_since_review  \\\n",
       "52538   [' Leisure trip ', ' Group ', ' Deluxe Double ...           107 day   \n",
       "37915   [' Leisure trip ', ' Couple ', ' Executive Dou...           616 day   \n",
       "107742  [' Leisure trip ', ' Couple ', ' Double Room '...           31 days   \n",
       "109161  [' Leisure trip ', ' Group ', ' Superior Queen...           688 day   \n",
       "17848   [' Business trip ', ' Couple ', ' King Room ',...           256 day   \n",
       "\n",
       "              lat       lng  \n",
       "52538   51.521807 -0.085608  \n",
       "37915   51.495498 -0.189369  \n",
       "107742  51.524137 -0.078698  \n",
       "109161  51.516099 -0.118175  \n",
       "17848   51.505454 -0.226222  "
      ]
     },
     "execution_count": 11,
     "metadata": {},
     "output_type": "execute_result"
    }
   ],
   "source": [
    "sample_df['Reviewer_Score'] = (sample_df['Reviewer_Score'] > 8).astype(int)\n",
    "sample_df.head()"
   ]
  },
  {
   "cell_type": "code",
   "execution_count": 12,
   "metadata": {
    "scrolled": true
   },
   "outputs": [
    {
     "data": {
      "image/png": "[encoded data removed]",
      "text/plain": [
       "<Figure size 432x288 with 1 Axes>"
      ]
     },
     "metadata": {
      "needs_background": "light"
     },
     "output_type": "display_data"
    }
   ],
   "source": [
    "count_series = sample_df['Reviewer_Score'].value_counts()\n",
    "plt.bar(count_series.index, count_series.values)\n",
    "plt.title('Distribution of Binary Classes')\n",
    "plt.xlabel('Binary Classes of Scores')\n",
    "plt.ylabel('Count')\n",
    "plt.xticks(count_series.index);"
   ]
  },
  {
   "cell_type": "markdown",
   "metadata": {},
   "source": [
    "The comparison of bar charts suggests that combination of classes has improved the balance between classes for prediction. "
   ]
  },
  {
   "cell_type": "markdown",
   "metadata": {},
   "source": [
    "## Reference Accuracy"
   ]
  },
  {
   "cell_type": "markdown",
   "metadata": {},
   "source": [
    "To create a baseline for prediction accuracy, the fraction of each class are calculated as follows:"
   ]
  },
  {
   "cell_type": "code",
   "execution_count": 13,
   "metadata": {},
   "outputs": [
    {
     "data": {
      "text/html": [
       "<div>\n",
       "<style scoped>\n",
       "    .dataframe tbody tr th:only-of-type {\n",
       "        vertical-align: middle;\n",
       "    }\n",
       "\n",
       "    .dataframe tbody tr th {\n",
       "        vertical-align: top;\n",
       "    }\n",
       "\n",
       "    .dataframe thead th {\n",
       "        text-align: right;\n",
       "    }\n",
       "</style>\n",
       "<table border=\"1\" class=\"dataframe\">\n",
       "  <thead>\n",
       "    <tr style=\"text-align: right;\">\n",
       "      <th></th>\n",
       "      <th>class</th>\n",
       "      <th>fraction</th>\n",
       "    </tr>\n",
       "  </thead>\n",
       "  <tbody>\n",
       "    <tr>\n",
       "      <td>0</td>\n",
       "      <td>1</td>\n",
       "      <td>0.578494</td>\n",
       "    </tr>\n",
       "    <tr>\n",
       "      <td>1</td>\n",
       "      <td>0</td>\n",
       "      <td>0.421506</td>\n",
       "    </tr>\n",
       "  </tbody>\n",
       "</table>\n",
       "</div>"
      ],
      "text/plain": [
       "   class  fraction\n",
       "0      1  0.578494\n",
       "1      0  0.421506"
      ]
     },
     "execution_count": 13,
     "metadata": {},
     "output_type": "execute_result"
    }
   ],
   "source": [
    "count_df = pd.DataFrame({'class':count_series.index, 'fraction':count_series.values/count_series.values.sum()})\n",
    "count_df"
   ]
  },
  {
   "cell_type": "markdown",
   "metadata": {},
   "source": [
    "The probability of a review being in class 1 (i.e., review score of 9 and 10) is about 58% based only on the counts of train data. This suggests that ignoring any other information about reviews one can predict class 1 for all future cases and be right 58% of the time. Therefore, the machine learning models considering the features associated with the reviews should be able to have higher accuracies."
   ]
  },
  {
   "cell_type": "markdown",
   "metadata": {},
   "source": [
    "# Data Cleaning"
   ]
  },
  {
   "cell_type": "markdown",
   "metadata": {},
   "source": [
    "This section describes the data cleaning steps implemented before analyzing the data."
   ]
  },
  {
   "cell_type": "markdown",
   "metadata": {},
   "source": [
    "## Non-numeric Columns"
   ]
  },
  {
   "cell_type": "markdown",
   "metadata": {},
   "source": [
    "As the number of unique values in non-integer columns were high, the features are dropped out of the dataset."
   ]
  },
  {
   "cell_type": "code",
   "execution_count": 14,
   "metadata": {
    "scrolled": false
   },
   "outputs": [
    {
     "data": {
      "text/plain": [
       "Hotel_Address                                   393\n",
       "Additional_Number_of_Scoring                    308\n",
       "Review_Date                                     731\n",
       "Average_Score                                    31\n",
       "Hotel_Name                                      394\n",
       "Reviewer_Nationality                              1\n",
       "Negative_Review                               11685\n",
       "Review_Total_Negative_Word_Counts               236\n",
       "Total_Number_of_Reviews                         378\n",
       "Positive_Review                               14632\n",
       "Review_Total_Positive_Word_Counts               168\n",
       "Total_Number_of_Reviews_Reviewer_Has_Given       87\n",
       "Reviewer_Score                                    2\n",
       "Tags                                           4211\n",
       "days_since_review                               731\n",
       "lat                                             391\n",
       "lng                                             391\n",
       "dtype: int64"
      ]
     },
     "execution_count": 14,
     "metadata": {},
     "output_type": "execute_result"
    }
   ],
   "source": [
    "sample_df.nunique()"
   ]
  },
  {
   "cell_type": "code",
   "execution_count": 15,
   "metadata": {
    "scrolled": true
   },
   "outputs": [],
   "source": [
    "sample_df.drop(['Hotel_Address', 'Hotel_Name', 'Review_Date', 'Reviewer_Nationality', 'Tags'], axis=1, inplace=True)"
   ]
  },
  {
   "cell_type": "code",
   "execution_count": 16,
   "metadata": {
    "scrolled": true
   },
   "outputs": [
    {
     "data": {
      "text/html": [
       "<div>\n",
       "<style scoped>\n",
       "    .dataframe tbody tr th:only-of-type {\n",
       "        vertical-align: middle;\n",
       "    }\n",
       "\n",
       "    .dataframe tbody tr th {\n",
       "        vertical-align: top;\n",
       "    }\n",
       "\n",
       "    .dataframe thead th {\n",
       "        text-align: right;\n",
       "    }\n",
       "</style>\n",
       "<table border=\"1\" class=\"dataframe\">\n",
       "  <thead>\n",
       "    <tr style=\"text-align: right;\">\n",
       "      <th></th>\n",
       "      <th>Additional_Number_of_Scoring</th>\n",
       "      <th>Average_Score</th>\n",
       "      <th>Negative_Review</th>\n",
       "      <th>Review_Total_Negative_Word_Counts</th>\n",
       "      <th>Total_Number_of_Reviews</th>\n",
       "      <th>Positive_Review</th>\n",
       "      <th>Review_Total_Positive_Word_Counts</th>\n",
       "      <th>Total_Number_of_Reviews_Reviewer_Has_Given</th>\n",
       "      <th>Reviewer_Score</th>\n",
       "      <th>days_since_review</th>\n",
       "      <th>lat</th>\n",
       "      <th>lng</th>\n",
       "    </tr>\n",
       "  </thead>\n",
       "  <tbody>\n",
       "    <tr>\n",
       "      <td>52538</td>\n",
       "      <td>461</td>\n",
       "      <td>9.2</td>\n",
       "      <td>The shower could have been warmer</td>\n",
       "      <td>8</td>\n",
       "      <td>1592</td>\n",
       "      <td>Excellent facilities and use of technology in...</td>\n",
       "      <td>15</td>\n",
       "      <td>2</td>\n",
       "      <td>1</td>\n",
       "      <td>107 day</td>\n",
       "      <td>51.521807</td>\n",
       "      <td>-0.085608</td>\n",
       "    </tr>\n",
       "    <tr>\n",
       "      <td>37915</td>\n",
       "      <td>137</td>\n",
       "      <td>8.3</td>\n",
       "      <td>Overpriced for the facilities received Cracks...</td>\n",
       "      <td>28</td>\n",
       "      <td>667</td>\n",
       "      <td>Comfortable bed and lovely sized room great view</td>\n",
       "      <td>9</td>\n",
       "      <td>3</td>\n",
       "      <td>0</td>\n",
       "      <td>616 day</td>\n",
       "      <td>51.495498</td>\n",
       "      <td>-0.189369</td>\n",
       "    </tr>\n",
       "    <tr>\n",
       "      <td>107742</td>\n",
       "      <td>500</td>\n",
       "      <td>9.1</td>\n",
       "      <td>No Negative</td>\n",
       "      <td>0</td>\n",
       "      <td>2113</td>\n",
       "      <td>lovely clean comfy bed upto date media food l...</td>\n",
       "      <td>28</td>\n",
       "      <td>13</td>\n",
       "      <td>1</td>\n",
       "      <td>31 days</td>\n",
       "      <td>51.524137</td>\n",
       "      <td>-0.078698</td>\n",
       "    </tr>\n",
       "    <tr>\n",
       "      <td>109161</td>\n",
       "      <td>681</td>\n",
       "      <td>8.9</td>\n",
       "      <td>Room was very close to the lift hence a lot o...</td>\n",
       "      <td>17</td>\n",
       "      <td>2692</td>\n",
       "      <td>Fantastic welcome by the staff and a thoughtf...</td>\n",
       "      <td>32</td>\n",
       "      <td>1</td>\n",
       "      <td>1</td>\n",
       "      <td>688 day</td>\n",
       "      <td>51.516099</td>\n",
       "      <td>-0.118175</td>\n",
       "    </tr>\n",
       "    <tr>\n",
       "      <td>17848</td>\n",
       "      <td>227</td>\n",
       "      <td>8.0</td>\n",
       "      <td>Even the King bedroom was tiny reception was ...</td>\n",
       "      <td>47</td>\n",
       "      <td>1069</td>\n",
       "      <td>An excellent location to see a show at the Em...</td>\n",
       "      <td>24</td>\n",
       "      <td>10</td>\n",
       "      <td>0</td>\n",
       "      <td>256 day</td>\n",
       "      <td>51.505454</td>\n",
       "      <td>-0.226222</td>\n",
       "    </tr>\n",
       "  </tbody>\n",
       "</table>\n",
       "</div>"
      ],
      "text/plain": [
       "        Additional_Number_of_Scoring  Average_Score  \\\n",
       "52538                            461            9.2   \n",
       "37915                            137            8.3   \n",
       "107742                           500            9.1   \n",
       "109161                           681            8.9   \n",
       "17848                            227            8.0   \n",
       "\n",
       "                                          Negative_Review  \\\n",
       "52538                  The shower could have been warmer    \n",
       "37915    Overpriced for the facilities received Cracks...   \n",
       "107742                                        No Negative   \n",
       "109161   Room was very close to the lift hence a lot o...   \n",
       "17848    Even the King bedroom was tiny reception was ...   \n",
       "\n",
       "        Review_Total_Negative_Word_Counts  Total_Number_of_Reviews  \\\n",
       "52538                                   8                     1592   \n",
       "37915                                  28                      667   \n",
       "107742                                  0                     2113   \n",
       "109161                                 17                     2692   \n",
       "17848                                  47                     1069   \n",
       "\n",
       "                                          Positive_Review  \\\n",
       "52538    Excellent facilities and use of technology in...   \n",
       "37915    Comfortable bed and lovely sized room great view   \n",
       "107742   lovely clean comfy bed upto date media food l...   \n",
       "109161   Fantastic welcome by the staff and a thoughtf...   \n",
       "17848    An excellent location to see a show at the Em...   \n",
       "\n",
       "        Review_Total_Positive_Word_Counts  \\\n",
       "52538                                  15   \n",
       "37915                                   9   \n",
       "107742                                 28   \n",
       "109161                                 32   \n",
       "17848                                  24   \n",
       "\n",
       "        Total_Number_of_Reviews_Reviewer_Has_Given  Reviewer_Score  \\\n",
       "52538                                            2               1   \n",
       "37915                                            3               0   \n",
       "107742                                          13               1   \n",
       "109161                                           1               1   \n",
       "17848                                           10               0   \n",
       "\n",
       "       days_since_review        lat       lng  \n",
       "52538            107 day  51.521807 -0.085608  \n",
       "37915            616 day  51.495498 -0.189369  \n",
       "107742           31 days  51.524137 -0.078698  \n",
       "109161           688 day  51.516099 -0.118175  \n",
       "17848            256 day  51.505454 -0.226222  "
      ]
     },
     "execution_count": 16,
     "metadata": {},
     "output_type": "execute_result"
    }
   ],
   "source": [
    "sample_df.head()"
   ]
  },
  {
   "cell_type": "markdown",
   "metadata": {},
   "source": [
    "## Strings in Numeric Columns"
   ]
  },
  {
   "cell_type": "markdown",
   "metadata": {},
   "source": [
    "The strings at the end of the values in `days_since_review` column has been striped in order to convert the values to integer."
   ]
  },
  {
   "cell_type": "code",
   "execution_count": 17,
   "metadata": {
    "scrolled": true
   },
   "outputs": [],
   "source": [
    "# remove strings from end of the numbers\n",
    "sample_df.days_since_review = sample_df.days_since_review.map(lambda x: x.rstrip(' days'))"
   ]
  },
  {
   "cell_type": "code",
   "execution_count": 18,
   "metadata": {},
   "outputs": [],
   "source": [
    "sample_df.days_since_review = sample_df.days_since_review.astype(int)"
   ]
  },
  {
   "cell_type": "markdown",
   "metadata": {},
   "source": [
    "Table below validates that the velues in this column were convertable to integer after the strip process."
   ]
  },
  {
   "cell_type": "code",
   "execution_count": 19,
   "metadata": {
    "scrolled": true
   },
   "outputs": [
    {
     "name": "stdout",
     "output_type": "stream",
     "text": [
      "<class 'pandas.core.frame.DataFrame'>\n",
      "Int64Index: 17065 entries, 52538 to 118779\n",
      "Data columns (total 12 columns):\n",
      "Additional_Number_of_Scoring                  17065 non-null int64\n",
      "Average_Score                                 17065 non-null float64\n",
      "Negative_Review                               17065 non-null object\n",
      "Review_Total_Negative_Word_Counts             17065 non-null int64\n",
      "Total_Number_of_Reviews                       17065 non-null int64\n",
      "Positive_Review                               17065 non-null object\n",
      "Review_Total_Positive_Word_Counts             17065 non-null int64\n",
      "Total_Number_of_Reviews_Reviewer_Has_Given    17065 non-null int64\n",
      "Reviewer_Score                                17065 non-null int32\n",
      "days_since_review                             17065 non-null int32\n",
      "lat                                           17065 non-null float64\n",
      "lng                                           17065 non-null float64\n",
      "dtypes: float64(3), int32(2), int64(5), object(2)\n",
      "memory usage: 1.6+ MB\n"
     ]
    }
   ],
   "source": [
    "sample_df.info()"
   ]
  },
  {
   "cell_type": "markdown",
   "metadata": {},
   "source": [
    "## Formatting for Modeling"
   ]
  },
  {
   "cell_type": "markdown",
   "metadata": {},
   "source": [
    "The dataframe is transformed to a format compatible with sckit learn libraries."
   ]
  },
  {
   "cell_type": "code",
   "execution_count": 20,
   "metadata": {},
   "outputs": [],
   "source": [
    "target = sample_df['Reviewer_Score']\n",
    "sample_df.drop('Reviewer_Score', axis='columns', inplace=True)\n",
    "sample_df['Reviewer_Score'] = target"
   ]
  },
  {
   "cell_type": "code",
   "execution_count": 21,
   "metadata": {
    "scrolled": true
   },
   "outputs": [
    {
     "data": {
      "text/html": [
       "<div>\n",
       "<style scoped>\n",
       "    .dataframe tbody tr th:only-of-type {\n",
       "        vertical-align: middle;\n",
       "    }\n",
       "\n",
       "    .dataframe tbody tr th {\n",
       "        vertical-align: top;\n",
       "    }\n",
       "\n",
       "    .dataframe thead th {\n",
       "        text-align: right;\n",
       "    }\n",
       "</style>\n",
       "<table border=\"1\" class=\"dataframe\">\n",
       "  <thead>\n",
       "    <tr style=\"text-align: right;\">\n",
       "      <th></th>\n",
       "      <th>Additional_Number_of_Scoring</th>\n",
       "      <th>Average_Score</th>\n",
       "      <th>Negative_Review</th>\n",
       "      <th>Review_Total_Negative_Word_Counts</th>\n",
       "      <th>Total_Number_of_Reviews</th>\n",
       "      <th>Positive_Review</th>\n",
       "      <th>Review_Total_Positive_Word_Counts</th>\n",
       "      <th>Total_Number_of_Reviews_Reviewer_Has_Given</th>\n",
       "      <th>days_since_review</th>\n",
       "      <th>lat</th>\n",
       "      <th>lng</th>\n",
       "    </tr>\n",
       "  </thead>\n",
       "  <tbody>\n",
       "    <tr>\n",
       "      <td>52538</td>\n",
       "      <td>461</td>\n",
       "      <td>9.2</td>\n",
       "      <td>The shower could have been warmer</td>\n",
       "      <td>8</td>\n",
       "      <td>1592</td>\n",
       "      <td>Excellent facilities and use of technology in...</td>\n",
       "      <td>15</td>\n",
       "      <td>2</td>\n",
       "      <td>107</td>\n",
       "      <td>51.521807</td>\n",
       "      <td>-0.085608</td>\n",
       "    </tr>\n",
       "    <tr>\n",
       "      <td>37915</td>\n",
       "      <td>137</td>\n",
       "      <td>8.3</td>\n",
       "      <td>Overpriced for the facilities received Cracks...</td>\n",
       "      <td>28</td>\n",
       "      <td>667</td>\n",
       "      <td>Comfortable bed and lovely sized room great view</td>\n",
       "      <td>9</td>\n",
       "      <td>3</td>\n",
       "      <td>616</td>\n",
       "      <td>51.495498</td>\n",
       "      <td>-0.189369</td>\n",
       "    </tr>\n",
       "    <tr>\n",
       "      <td>107742</td>\n",
       "      <td>500</td>\n",
       "      <td>9.1</td>\n",
       "      <td>No Negative</td>\n",
       "      <td>0</td>\n",
       "      <td>2113</td>\n",
       "      <td>lovely clean comfy bed upto date media food l...</td>\n",
       "      <td>28</td>\n",
       "      <td>13</td>\n",
       "      <td>31</td>\n",
       "      <td>51.524137</td>\n",
       "      <td>-0.078698</td>\n",
       "    </tr>\n",
       "    <tr>\n",
       "      <td>109161</td>\n",
       "      <td>681</td>\n",
       "      <td>8.9</td>\n",
       "      <td>Room was very close to the lift hence a lot o...</td>\n",
       "      <td>17</td>\n",
       "      <td>2692</td>\n",
       "      <td>Fantastic welcome by the staff and a thoughtf...</td>\n",
       "      <td>32</td>\n",
       "      <td>1</td>\n",
       "      <td>688</td>\n",
       "      <td>51.516099</td>\n",
       "      <td>-0.118175</td>\n",
       "    </tr>\n",
       "    <tr>\n",
       "      <td>17848</td>\n",
       "      <td>227</td>\n",
       "      <td>8.0</td>\n",
       "      <td>Even the King bedroom was tiny reception was ...</td>\n",
       "      <td>47</td>\n",
       "      <td>1069</td>\n",
       "      <td>An excellent location to see a show at the Em...</td>\n",
       "      <td>24</td>\n",
       "      <td>10</td>\n",
       "      <td>256</td>\n",
       "      <td>51.505454</td>\n",
       "      <td>-0.226222</td>\n",
       "    </tr>\n",
       "  </tbody>\n",
       "</table>\n",
       "</div>"
      ],
      "text/plain": [
       "        Additional_Number_of_Scoring  Average_Score  \\\n",
       "52538                            461            9.2   \n",
       "37915                            137            8.3   \n",
       "107742                           500            9.1   \n",
       "109161                           681            8.9   \n",
       "17848                            227            8.0   \n",
       "\n",
       "                                          Negative_Review  \\\n",
       "52538                  The shower could have been warmer    \n",
       "37915    Overpriced for the facilities received Cracks...   \n",
       "107742                                        No Negative   \n",
       "109161   Room was very close to the lift hence a lot o...   \n",
       "17848    Even the King bedroom was tiny reception was ...   \n",
       "\n",
       "        Review_Total_Negative_Word_Counts  Total_Number_of_Reviews  \\\n",
       "52538                                   8                     1592   \n",
       "37915                                  28                      667   \n",
       "107742                                  0                     2113   \n",
       "109161                                 17                     2692   \n",
       "17848                                  47                     1069   \n",
       "\n",
       "                                          Positive_Review  \\\n",
       "52538    Excellent facilities and use of technology in...   \n",
       "37915    Comfortable bed and lovely sized room great view   \n",
       "107742   lovely clean comfy bed upto date media food l...   \n",
       "109161   Fantastic welcome by the staff and a thoughtf...   \n",
       "17848    An excellent location to see a show at the Em...   \n",
       "\n",
       "        Review_Total_Positive_Word_Counts  \\\n",
       "52538                                  15   \n",
       "37915                                   9   \n",
       "107742                                 28   \n",
       "109161                                 32   \n",
       "17848                                  24   \n",
       "\n",
       "        Total_Number_of_Reviews_Reviewer_Has_Given  days_since_review  \\\n",
       "52538                                            2                107   \n",
       "37915                                            3                616   \n",
       "107742                                          13                 31   \n",
       "109161                                           1                688   \n",
       "17848                                           10                256   \n",
       "\n",
       "              lat       lng  \n",
       "52538   51.521807 -0.085608  \n",
       "37915   51.495498 -0.189369  \n",
       "107742  51.524137 -0.078698  \n",
       "109161  51.516099 -0.118175  \n",
       "17848   51.505454 -0.226222  "
      ]
     },
     "execution_count": 21,
     "metadata": {},
     "output_type": "execute_result"
    }
   ],
   "source": [
    "X = sample_df.iloc[:,:-1]\n",
    "X.head()"
   ]
  },
  {
   "cell_type": "code",
   "execution_count": 22,
   "metadata": {},
   "outputs": [
    {
     "data": {
      "text/plain": [
       "52538     1\n",
       "37915     0\n",
       "107742    1\n",
       "109161    1\n",
       "17848     0\n",
       "         ..\n",
       "10890     1\n",
       "115414    0\n",
       "162245    1\n",
       "161571    1\n",
       "118779    1\n",
       "Name: Reviewer_Score, Length: 17065, dtype: int32"
      ]
     },
     "execution_count": 22,
     "metadata": {},
     "output_type": "execute_result"
    }
   ],
   "source": [
    "y = sample_df.iloc[:,-1]\n",
    "y"
   ]
  },
  {
   "cell_type": "markdown",
   "metadata": {},
   "source": [
    "## Train-Test Split"
   ]
  },
  {
   "cell_type": "markdown",
   "metadata": {},
   "source": [
    "The data and labels are split to train and test section for validation of the models"
   ]
  },
  {
   "cell_type": "code",
   "execution_count": 23,
   "metadata": {},
   "outputs": [],
   "source": [
    "from sklearn.model_selection import train_test_split\n",
    "X_train, X_test, y_train, y_test = train_test_split(X, y, test_size=0.25, random_state=42)"
   ]
  },
  {
   "cell_type": "code",
   "execution_count": 24,
   "metadata": {},
   "outputs": [
    {
     "data": {
      "text/html": [
       "<div>\n",
       "<style scoped>\n",
       "    .dataframe tbody tr th:only-of-type {\n",
       "        vertical-align: middle;\n",
       "    }\n",
       "\n",
       "    .dataframe tbody tr th {\n",
       "        vertical-align: top;\n",
       "    }\n",
       "\n",
       "    .dataframe thead th {\n",
       "        text-align: right;\n",
       "    }\n",
       "</style>\n",
       "<table border=\"1\" class=\"dataframe\">\n",
       "  <thead>\n",
       "    <tr style=\"text-align: right;\">\n",
       "      <th></th>\n",
       "      <th>Negative_Review</th>\n",
       "      <th>Positive_Review</th>\n",
       "    </tr>\n",
       "  </thead>\n",
       "  <tbody>\n",
       "    <tr>\n",
       "      <td>52538</td>\n",
       "      <td>The shower could have been warmer</td>\n",
       "      <td>Excellent facilities and use of technology in...</td>\n",
       "    </tr>\n",
       "    <tr>\n",
       "      <td>37915</td>\n",
       "      <td>Overpriced for the facilities received Cracks...</td>\n",
       "      <td>Comfortable bed and lovely sized room great view</td>\n",
       "    </tr>\n",
       "    <tr>\n",
       "      <td>107742</td>\n",
       "      <td>No Negative</td>\n",
       "      <td>lovely clean comfy bed upto date media food l...</td>\n",
       "    </tr>\n",
       "    <tr>\n",
       "      <td>109161</td>\n",
       "      <td>Room was very close to the lift hence a lot o...</td>\n",
       "      <td>Fantastic welcome by the staff and a thoughtf...</td>\n",
       "    </tr>\n",
       "    <tr>\n",
       "      <td>17848</td>\n",
       "      <td>Even the King bedroom was tiny reception was ...</td>\n",
       "      <td>An excellent location to see a show at the Em...</td>\n",
       "    </tr>\n",
       "    <tr>\n",
       "      <td>...</td>\n",
       "      <td>...</td>\n",
       "      <td>...</td>\n",
       "    </tr>\n",
       "    <tr>\n",
       "      <td>10890</td>\n",
       "      <td>The breakfast was cold and very over priced w...</td>\n",
       "      <td></td>\n",
       "    </tr>\n",
       "    <tr>\n",
       "      <td>115414</td>\n",
       "      <td>Check out service needs some rethinking Few s...</td>\n",
       "      <td>Free water location gym</td>\n",
       "    </tr>\n",
       "    <tr>\n",
       "      <td>162245</td>\n",
       "      <td>No Negative</td>\n",
       "      <td>Loved it all</td>\n",
       "    </tr>\n",
       "    <tr>\n",
       "      <td>161571</td>\n",
       "      <td>Provide extra water in room</td>\n",
       "      <td>bed very comfortable great shower fantastic l...</td>\n",
       "    </tr>\n",
       "    <tr>\n",
       "      <td>118779</td>\n",
       "      <td>No Negative</td>\n",
       "      <td>Exceptional value for money</td>\n",
       "    </tr>\n",
       "  </tbody>\n",
       "</table>\n",
       "<p>17065 rows × 2 columns</p>\n",
       "</div>"
      ],
      "text/plain": [
       "                                          Negative_Review  \\\n",
       "52538                  The shower could have been warmer    \n",
       "37915    Overpriced for the facilities received Cracks...   \n",
       "107742                                        No Negative   \n",
       "109161   Room was very close to the lift hence a lot o...   \n",
       "17848    Even the King bedroom was tiny reception was ...   \n",
       "...                                                   ...   \n",
       "10890    The breakfast was cold and very over priced w...   \n",
       "115414   Check out service needs some rethinking Few s...   \n",
       "162245                                        No Negative   \n",
       "161571                        Provide extra water in room   \n",
       "118779                                        No Negative   \n",
       "\n",
       "                                          Positive_Review  \n",
       "52538    Excellent facilities and use of technology in...  \n",
       "37915    Comfortable bed and lovely sized room great view  \n",
       "107742   lovely clean comfy bed upto date media food l...  \n",
       "109161   Fantastic welcome by the staff and a thoughtf...  \n",
       "17848    An excellent location to see a show at the Em...  \n",
       "...                                                   ...  \n",
       "10890                                                      \n",
       "115414                            Free water location gym  \n",
       "162245                                       Loved it all  \n",
       "161571   bed very comfortable great shower fantastic l...  \n",
       "118779                       Exceptional value for money   \n",
       "\n",
       "[17065 rows x 2 columns]"
      ]
     },
     "execution_count": 24,
     "metadata": {},
     "output_type": "execute_result"
    }
   ],
   "source": [
    "sample_df[['Negative_Review','Positive_Review']]"
   ]
  },
  {
   "cell_type": "markdown",
   "metadata": {},
   "source": [
    "# Feature Engineering"
   ]
  },
  {
   "cell_type": "markdown",
   "metadata": {},
   "source": [
    "This section involves converting review texts to numerical formats consumable by computers. First, a tokenizer function is defined that implements the steps of converting a sentence to its important words. Then each of these words are quantified for different reviews and merged back to the rest of the numerical features in the dataframe. "
   ]
  },
  {
   "cell_type": "markdown",
   "metadata": {},
   "source": [
    "## Tokenizer Function"
   ]
  },
  {
   "cell_type": "markdown",
   "metadata": {},
   "source": [
    "The function below describes and implements the steps required to identify important words within a sentence. First the punctuation marks are removed because they do not usually carry any sentiment related meaning. Then, the sentence is broken down into individual words using the space as the seperator. The stop words are removed afterwards because they are not sentiment related. Finally, the remaining words are grouped by their stem to reduce number of features."
   ]
  },
  {
   "cell_type": "code",
   "execution_count": 25,
   "metadata": {},
   "outputs": [],
   "source": [
    "# define tokenizer function\n",
    "def case_punc_stop_lemm(sentence):\n",
    "    # remove punctuation marks and set to lower case\n",
    "    for punctuation_mark in string.punctuation:\n",
    "        sentence = sentence.lower().replace(punctuation_mark, '')\n",
    "    # split sentence into words\n",
    "    words = sentence.split(' ')\n",
    "    # remove stop words and empty strings\n",
    "    stop_words = stopwords.words('english')\n",
    "    lemmatizer = WordNetLemmatizer()\n",
    "    lemmatized_words = []\n",
    "    for word in words:\n",
    "        if (not word in stop_words) and (word != ''):\n",
    "            # stem remaining words\n",
    "            lemmatized_words.append(lemmatizer.lemmatize(word))\n",
    "    return lemmatized_words"
   ]
  },
  {
   "cell_type": "markdown",
   "metadata": {},
   "source": [
    "## Text Vectoization"
   ]
  },
  {
   "cell_type": "markdown",
   "metadata": {},
   "source": [
    "The defined tokenizer function is used to identify tokens based on train set and TF-IDF measure is used to quantify each of these tokens for both train and test sets."
   ]
  },
  {
   "cell_type": "code",
   "execution_count": 26,
   "metadata": {
    "scrolled": true
   },
   "outputs": [],
   "source": [
    "# vectorize train and test data into data frames\n",
    "from sklearn.feature_extraction.text import TfidfVectorizer\n",
    "import scipy.sparse\n",
    "\n",
    "vectorizer = TfidfVectorizer(min_df=5, tokenizer=case_punc_stop_lemm)\n",
    "X_train_neg = vectorizer.fit_transform(X_train.Negative_Review)\n",
    "X_test_neg = vectorizer.transform(X_test.Negative_Review)"
   ]
  },
  {
   "cell_type": "markdown",
   "metadata": {},
   "source": [
    "## Tokenizer Validation"
   ]
  },
  {
   "cell_type": "markdown",
   "metadata": {},
   "source": [
    "To evaluate value of the identified words, they are sorted based on their total weight."
   ]
  },
  {
   "cell_type": "code",
   "execution_count": 27,
   "metadata": {
    "scrolled": false
   },
   "outputs": [
    {
     "data": {
      "text/html": [
       "<div>\n",
       "<style scoped>\n",
       "    .dataframe tbody tr th:only-of-type {\n",
       "        vertical-align: middle;\n",
       "    }\n",
       "\n",
       "    .dataframe tbody tr th {\n",
       "        vertical-align: top;\n",
       "    }\n",
       "\n",
       "    .dataframe thead th {\n",
       "        text-align: right;\n",
       "    }\n",
       "</style>\n",
       "<table border=\"1\" class=\"dataframe\">\n",
       "  <thead>\n",
       "    <tr style=\"text-align: right;\">\n",
       "      <th></th>\n",
       "      <th>word</th>\n",
       "      <th>weight</th>\n",
       "    </tr>\n",
       "  </thead>\n",
       "  <tbody>\n",
       "    <tr>\n",
       "      <td>0</td>\n",
       "      <td>negative</td>\n",
       "      <td>3022.981663</td>\n",
       "    </tr>\n",
       "    <tr>\n",
       "      <td>1</td>\n",
       "      <td>nothing</td>\n",
       "      <td>766.112672</td>\n",
       "    </tr>\n",
       "    <tr>\n",
       "      <td>2</td>\n",
       "      <td>room</td>\n",
       "      <td>636.074452</td>\n",
       "    </tr>\n",
       "    <tr>\n",
       "      <td>3</td>\n",
       "      <td>breakfast</td>\n",
       "      <td>318.115213</td>\n",
       "    </tr>\n",
       "    <tr>\n",
       "      <td>4</td>\n",
       "      <td>small</td>\n",
       "      <td>287.729853</td>\n",
       "    </tr>\n",
       "    <tr>\n",
       "      <td>5</td>\n",
       "      <td>hotel</td>\n",
       "      <td>227.963828</td>\n",
       "    </tr>\n",
       "    <tr>\n",
       "      <td>6</td>\n",
       "      <td>bed</td>\n",
       "      <td>200.227811</td>\n",
       "    </tr>\n",
       "    <tr>\n",
       "      <td>7</td>\n",
       "      <td>staff</td>\n",
       "      <td>172.571146</td>\n",
       "    </tr>\n",
       "    <tr>\n",
       "      <td>8</td>\n",
       "      <td>bit</td>\n",
       "      <td>162.920145</td>\n",
       "    </tr>\n",
       "    <tr>\n",
       "      <td>9</td>\n",
       "      <td>could</td>\n",
       "      <td>162.161400</td>\n",
       "    </tr>\n",
       "  </tbody>\n",
       "</table>\n",
       "</div>"
      ],
      "text/plain": [
       "        word       weight\n",
       "0   negative  3022.981663\n",
       "1    nothing   766.112672\n",
       "2       room   636.074452\n",
       "3  breakfast   318.115213\n",
       "4      small   287.729853\n",
       "5      hotel   227.963828\n",
       "6        bed   200.227811\n",
       "7      staff   172.571146\n",
       "8        bit   162.920145\n",
       "9      could   162.161400"
      ]
     },
     "execution_count": 27,
     "metadata": {},
     "output_type": "execute_result"
    }
   ],
   "source": [
    "# validate frequently appearing words in form of data frame\n",
    "words = vectorizer.get_feature_names()\n",
    "weights = np.array(X_train_neg.sum(axis=0)).reshape(-1,)\n",
    "word_weight_df = pd.DataFrame({'word': words, 'weight': weights})\n",
    "word_weight_df.sort_values(by='weight', ascending=False, inplace=True)\n",
    "word_weight_df.reset_index(drop=True).head(10)"
   ]
  },
  {
   "cell_type": "markdown",
   "metadata": {},
   "source": [
    "It can be seen that a lot of relevant words and words with negative sentiment (e.g., negative, nothing, small) appear on the list. Based on this validation, the vectorized data are transformed from the sparse matrix format from the vectorizer to the data frame format consumable modeling libraries."
   ]
  },
  {
   "cell_type": "code",
   "execution_count": 28,
   "metadata": {},
   "outputs": [],
   "source": [
    "# transform results from sparse matrix format to data frame \n",
    "train_neg_df = pd.DataFrame.sparse.from_spmatrix(X_train_neg)\n",
    "train_neg_df.columns = vectorizer.get_feature_names()\n",
    "\n",
    "test_neg_df = pd.DataFrame.sparse.from_spmatrix(X_test_neg)\n",
    "test_neg_df.columns = vectorizer.get_feature_names()"
   ]
  },
  {
   "cell_type": "markdown",
   "metadata": {},
   "source": [
    "The steps for vectorization, validation, and transformation to data frame are reiterated for the positive reviews."
   ]
  },
  {
   "cell_type": "code",
   "execution_count": 29,
   "metadata": {},
   "outputs": [],
   "source": [
    "X_train_pos = vectorizer.fit_transform(X_train.Positive_Review)\n",
    "train_pos_df = pd.DataFrame.sparse.from_spmatrix(X_train_pos)\n",
    "train_pos_df.columns = vectorizer.get_feature_names()"
   ]
  },
  {
   "cell_type": "code",
   "execution_count": 30,
   "metadata": {
    "scrolled": false
   },
   "outputs": [],
   "source": [
    "X_test_pos = vectorizer.transform(X_test.Positive_Review)\n",
    "test_pos_df = pd.DataFrame.sparse.from_spmatrix(X_test_pos)"
   ]
  },
  {
   "cell_type": "code",
   "execution_count": 31,
   "metadata": {},
   "outputs": [
    {
     "data": {
      "text/html": [
       "<div>\n",
       "<style scoped>\n",
       "    .dataframe tbody tr th:only-of-type {\n",
       "        vertical-align: middle;\n",
       "    }\n",
       "\n",
       "    .dataframe tbody tr th {\n",
       "        vertical-align: top;\n",
       "    }\n",
       "\n",
       "    .dataframe thead th {\n",
       "        text-align: right;\n",
       "    }\n",
       "</style>\n",
       "<table border=\"1\" class=\"dataframe\">\n",
       "  <thead>\n",
       "    <tr style=\"text-align: right;\">\n",
       "      <th></th>\n",
       "      <th>word</th>\n",
       "      <th>weight</th>\n",
       "    </tr>\n",
       "  </thead>\n",
       "  <tbody>\n",
       "    <tr>\n",
       "      <td>0</td>\n",
       "      <td>location</td>\n",
       "      <td>1123.106021</td>\n",
       "    </tr>\n",
       "    <tr>\n",
       "      <td>1</td>\n",
       "      <td>staff</td>\n",
       "      <td>906.350235</td>\n",
       "    </tr>\n",
       "    <tr>\n",
       "      <td>2</td>\n",
       "      <td>positive</td>\n",
       "      <td>876.193452</td>\n",
       "    </tr>\n",
       "    <tr>\n",
       "      <td>3</td>\n",
       "      <td>room</td>\n",
       "      <td>755.284959</td>\n",
       "    </tr>\n",
       "    <tr>\n",
       "      <td>4</td>\n",
       "      <td>good</td>\n",
       "      <td>606.902659</td>\n",
       "    </tr>\n",
       "    <tr>\n",
       "      <td>5</td>\n",
       "      <td>great</td>\n",
       "      <td>592.176947</td>\n",
       "    </tr>\n",
       "    <tr>\n",
       "      <td>6</td>\n",
       "      <td>friendly</td>\n",
       "      <td>556.458949</td>\n",
       "    </tr>\n",
       "    <tr>\n",
       "      <td>7</td>\n",
       "      <td>bed</td>\n",
       "      <td>499.655061</td>\n",
       "    </tr>\n",
       "    <tr>\n",
       "      <td>8</td>\n",
       "      <td>hotel</td>\n",
       "      <td>479.995743</td>\n",
       "    </tr>\n",
       "    <tr>\n",
       "      <td>9</td>\n",
       "      <td>helpful</td>\n",
       "      <td>463.187801</td>\n",
       "    </tr>\n",
       "  </tbody>\n",
       "</table>\n",
       "</div>"
      ],
      "text/plain": [
       "       word       weight\n",
       "0  location  1123.106021\n",
       "1     staff   906.350235\n",
       "2  positive   876.193452\n",
       "3      room   755.284959\n",
       "4      good   606.902659\n",
       "5     great   592.176947\n",
       "6  friendly   556.458949\n",
       "7       bed   499.655061\n",
       "8     hotel   479.995743\n",
       "9   helpful   463.187801"
      ]
     },
     "execution_count": 31,
     "metadata": {},
     "output_type": "execute_result"
    }
   ],
   "source": [
    "# validate frequently appearing words in form of data frame\n",
    "words = vectorizer.get_feature_names()\n",
    "weights = np.array(X_train_pos.sum(axis=0)).reshape(-1,)\n",
    "word_weight_df = pd.DataFrame({'word': words, 'weight': weights})\n",
    "word_weight_df.sort_values(by='weight', ascending=False, inplace=True)\n",
    "word_weight_df.reset_index(drop=True).head(10)"
   ]
  },
  {
   "cell_type": "code",
   "execution_count": 32,
   "metadata": {},
   "outputs": [],
   "source": [
    "train_pos_df = pd.DataFrame.sparse.from_spmatrix(X_train_pos)\n",
    "train_pos_df.columns = vectorizer.get_feature_names()\n",
    "\n",
    "test_pos_df = pd.DataFrame.sparse.from_spmatrix(X_test_pos)\n",
    "test_pos_df.columns = vectorizer.get_feature_names()"
   ]
  },
  {
   "cell_type": "markdown",
   "metadata": {},
   "source": [
    "## Concatination of Vectoized Reviews"
   ]
  },
  {
   "cell_type": "markdown",
   "metadata": {},
   "source": [
    "The `Negative_Review` and `Positive_Review` columns containing text review information are dropped and replaced by their numerical equaivalent for both train and test sets."
   ]
  },
  {
   "cell_type": "code",
   "execution_count": 33,
   "metadata": {},
   "outputs": [],
   "source": [
    "X_train.drop(['Negative_Review', 'Positive_Review'], axis=1, inplace=True)\n",
    "X_train.reset_index(drop=True, inplace=True)\n",
    "X_train = pd.concat([X_train, train_neg_df, train_pos_df], axis=1)"
   ]
  },
  {
   "cell_type": "code",
   "execution_count": 34,
   "metadata": {},
   "outputs": [],
   "source": [
    "X_test.drop(['Negative_Review', 'Positive_Review'], axis=1, inplace=True)\n",
    "X_test.reset_index(drop=True, inplace=True)\n",
    "X_test = pd.concat([X_test, test_neg_df, test_pos_df], axis=1)"
   ]
  },
  {
   "cell_type": "code",
   "execution_count": 35,
   "metadata": {
    "scrolled": true
   },
   "outputs": [
    {
     "data": {
      "text/html": [
       "<div>\n",
       "<style scoped>\n",
       "    .dataframe tbody tr th:only-of-type {\n",
       "        vertical-align: middle;\n",
       "    }\n",
       "\n",
       "    .dataframe tbody tr th {\n",
       "        vertical-align: top;\n",
       "    }\n",
       "\n",
       "    .dataframe thead th {\n",
       "        text-align: right;\n",
       "    }\n",
       "</style>\n",
       "<table border=\"1\" class=\"dataframe\">\n",
       "  <thead>\n",
       "    <tr style=\"text-align: right;\">\n",
       "      <th></th>\n",
       "      <th>Additional_Number_of_Scoring</th>\n",
       "      <th>Average_Score</th>\n",
       "      <th>Review_Total_Negative_Word_Counts</th>\n",
       "      <th>Total_Number_of_Reviews</th>\n",
       "      <th>Review_Total_Positive_Word_Counts</th>\n",
       "      <th>Total_Number_of_Reviews_Reviewer_Has_Given</th>\n",
       "      <th>days_since_review</th>\n",
       "      <th>lat</th>\n",
       "      <th>lng</th>\n",
       "      <th>0</th>\n",
       "      <th>...</th>\n",
       "      <th>xmas</th>\n",
       "      <th>xx</th>\n",
       "      <th>yard</th>\n",
       "      <th>year</th>\n",
       "      <th>yes</th>\n",
       "      <th>yet</th>\n",
       "      <th>yo</th>\n",
       "      <th>young</th>\n",
       "      <th>yummy</th>\n",
       "      <th>zone</th>\n",
       "    </tr>\n",
       "  </thead>\n",
       "  <tbody>\n",
       "    <tr>\n",
       "      <td>0</td>\n",
       "      <td>434</td>\n",
       "      <td>8.4</td>\n",
       "      <td>5</td>\n",
       "      <td>1494</td>\n",
       "      <td>0</td>\n",
       "      <td>1</td>\n",
       "      <td>681</td>\n",
       "      <td>51.511521</td>\n",
       "      <td>-0.290706</td>\n",
       "      <td>0.0</td>\n",
       "      <td>...</td>\n",
       "      <td>0.0</td>\n",
       "      <td>0.0</td>\n",
       "      <td>0.0</td>\n",
       "      <td>0.0</td>\n",
       "      <td>0.0</td>\n",
       "      <td>0.0</td>\n",
       "      <td>0.0</td>\n",
       "      <td>0.0</td>\n",
       "      <td>0.0</td>\n",
       "      <td>0.0</td>\n",
       "    </tr>\n",
       "    <tr>\n",
       "      <td>1</td>\n",
       "      <td>444</td>\n",
       "      <td>7.0</td>\n",
       "      <td>114</td>\n",
       "      <td>2061</td>\n",
       "      <td>6</td>\n",
       "      <td>1</td>\n",
       "      <td>471</td>\n",
       "      <td>51.505933</td>\n",
       "      <td>-0.148942</td>\n",
       "      <td>0.0</td>\n",
       "      <td>...</td>\n",
       "      <td>0.0</td>\n",
       "      <td>0.0</td>\n",
       "      <td>0.0</td>\n",
       "      <td>0.0</td>\n",
       "      <td>0.0</td>\n",
       "      <td>0.0</td>\n",
       "      <td>0.0</td>\n",
       "      <td>0.0</td>\n",
       "      <td>0.0</td>\n",
       "      <td>0.0</td>\n",
       "    </tr>\n",
       "    <tr>\n",
       "      <td>2</td>\n",
       "      <td>39</td>\n",
       "      <td>8.9</td>\n",
       "      <td>55</td>\n",
       "      <td>200</td>\n",
       "      <td>12</td>\n",
       "      <td>8</td>\n",
       "      <td>143</td>\n",
       "      <td>51.507915</td>\n",
       "      <td>-0.273014</td>\n",
       "      <td>0.0</td>\n",
       "      <td>...</td>\n",
       "      <td>0.0</td>\n",
       "      <td>0.0</td>\n",
       "      <td>0.0</td>\n",
       "      <td>0.0</td>\n",
       "      <td>0.0</td>\n",
       "      <td>0.0</td>\n",
       "      <td>0.0</td>\n",
       "      <td>0.0</td>\n",
       "      <td>0.0</td>\n",
       "      <td>0.0</td>\n",
       "    </tr>\n",
       "    <tr>\n",
       "      <td>3</td>\n",
       "      <td>525</td>\n",
       "      <td>8.2</td>\n",
       "      <td>0</td>\n",
       "      <td>1842</td>\n",
       "      <td>10</td>\n",
       "      <td>3</td>\n",
       "      <td>544</td>\n",
       "      <td>51.481663</td>\n",
       "      <td>-0.190957</td>\n",
       "      <td>0.0</td>\n",
       "      <td>...</td>\n",
       "      <td>0.0</td>\n",
       "      <td>0.0</td>\n",
       "      <td>0.0</td>\n",
       "      <td>0.0</td>\n",
       "      <td>0.0</td>\n",
       "      <td>0.0</td>\n",
       "      <td>0.0</td>\n",
       "      <td>0.0</td>\n",
       "      <td>0.0</td>\n",
       "      <td>0.0</td>\n",
       "    </tr>\n",
       "    <tr>\n",
       "      <td>4</td>\n",
       "      <td>279</td>\n",
       "      <td>8.2</td>\n",
       "      <td>17</td>\n",
       "      <td>1140</td>\n",
       "      <td>3</td>\n",
       "      <td>2</td>\n",
       "      <td>386</td>\n",
       "      <td>51.492733</td>\n",
       "      <td>-0.157371</td>\n",
       "      <td>0.0</td>\n",
       "      <td>...</td>\n",
       "      <td>0.0</td>\n",
       "      <td>0.0</td>\n",
       "      <td>0.0</td>\n",
       "      <td>0.0</td>\n",
       "      <td>0.0</td>\n",
       "      <td>0.0</td>\n",
       "      <td>0.0</td>\n",
       "      <td>0.0</td>\n",
       "      <td>0.0</td>\n",
       "      <td>0.0</td>\n",
       "    </tr>\n",
       "  </tbody>\n",
       "</table>\n",
       "<p>5 rows × 3991 columns</p>\n",
       "</div>"
      ],
      "text/plain": [
       "   Additional_Number_of_Scoring  Average_Score  \\\n",
       "0                           434            8.4   \n",
       "1                           444            7.0   \n",
       "2                            39            8.9   \n",
       "3                           525            8.2   \n",
       "4                           279            8.2   \n",
       "\n",
       "   Review_Total_Negative_Word_Counts  Total_Number_of_Reviews  \\\n",
       "0                                  5                     1494   \n",
       "1                                114                     2061   \n",
       "2                                 55                      200   \n",
       "3                                  0                     1842   \n",
       "4                                 17                     1140   \n",
       "\n",
       "   Review_Total_Positive_Word_Counts  \\\n",
       "0                                  0   \n",
       "1                                  6   \n",
       "2                                 12   \n",
       "3                                 10   \n",
       "4                                  3   \n",
       "\n",
       "   Total_Number_of_Reviews_Reviewer_Has_Given  days_since_review        lat  \\\n",
       "0                                           1                681  51.511521   \n",
       "1                                           1                471  51.505933   \n",
       "2                                           8                143  51.507915   \n",
       "3                                           3                544  51.481663   \n",
       "4                                           2                386  51.492733   \n",
       "\n",
       "        lng    0  ...  xmas   xx  yard  year  yes  yet   yo  young  yummy  \\\n",
       "0 -0.290706  0.0  ...   0.0  0.0   0.0   0.0  0.0  0.0  0.0    0.0    0.0   \n",
       "1 -0.148942  0.0  ...   0.0  0.0   0.0   0.0  0.0  0.0  0.0    0.0    0.0   \n",
       "2 -0.273014  0.0  ...   0.0  0.0   0.0   0.0  0.0  0.0  0.0    0.0    0.0   \n",
       "3 -0.190957  0.0  ...   0.0  0.0   0.0   0.0  0.0  0.0  0.0    0.0    0.0   \n",
       "4 -0.157371  0.0  ...   0.0  0.0   0.0   0.0  0.0  0.0  0.0    0.0    0.0   \n",
       "\n",
       "   zone  \n",
       "0   0.0  \n",
       "1   0.0  \n",
       "2   0.0  \n",
       "3   0.0  \n",
       "4   0.0  \n",
       "\n",
       "[5 rows x 3991 columns]"
      ]
     },
     "execution_count": 35,
     "metadata": {},
     "output_type": "execute_result"
    }
   ],
   "source": [
    "X_train.head()"
   ]
  },
  {
   "cell_type": "markdown",
   "metadata": {},
   "source": [
    "# Logistic Regression"
   ]
  },
  {
   "cell_type": "markdown",
   "metadata": {},
   "source": [
    "To evaluate the value of the created features, a logistic regressor is fit and evaluted for accuracy. "
   ]
  },
  {
   "cell_type": "code",
   "execution_count": 36,
   "metadata": {
    "scrolled": true
   },
   "outputs": [
    {
     "name": "stdout",
     "output_type": "stream",
     "text": [
      "0.8326300984528833\n",
      "0.7897820482774783\n"
     ]
    }
   ],
   "source": [
    "from sklearn.linear_model import LogisticRegression\n",
    "lr = LogisticRegression().fit(X_train, y_train)\n",
    "print(lr.score(X_train, y_train))\n",
    "print(lr.score(X_test, y_test))"
   ]
  },
  {
   "cell_type": "markdown",
   "metadata": {},
   "source": [
    "The accuracies are larger than 58% suggesting that the engineered features have valuable information that helps improve the prediction. "
   ]
  },
  {
   "cell_type": "markdown",
   "metadata": {},
   "source": [
    "To evaluate the effect of minimum document frequency (min_df) in vectorizer the analytics steps are reiterated with 10 as follows:"
   ]
  },
  {
   "cell_type": "code",
   "execution_count": 37,
   "metadata": {
    "scrolled": true
   },
   "outputs": [
    {
     "name": "stdout",
     "output_type": "stream",
     "text": [
      "0.8317705891545554\n",
      "0.7855636278415749\n"
     ]
    }
   ],
   "source": [
    "X_train, X_test, y_train, y_test = train_test_split(X, y, test_size=0.25, random_state=42)\n",
    "\n",
    "# vectorize train and test data into data frames\n",
    "from sklearn.feature_extraction.text import TfidfVectorizer\n",
    "import scipy.sparse\n",
    "\n",
    "vectorizer = TfidfVectorizer(min_df=10, tokenizer=case_punc_stop_lemm)\n",
    "X_train_neg = vectorizer.fit_transform(X_train.Negative_Review)\n",
    "X_test_neg = vectorizer.transform(X_test.Negative_Review)\n",
    "\n",
    "# validate frequently appearing words in form of data frame\n",
    "words = vectorizer.get_feature_names()\n",
    "weights = np.array(X_train_neg.sum(axis=0)).reshape(-1,)\n",
    "word_weight_df = pd.DataFrame({'word': words, 'weight': weights})\n",
    "word_weight_df.sort_values(by='weight', ascending=False, inplace=True)\n",
    "word_weight_df.reset_index(drop=True).head(10)\n",
    "\n",
    "# transform results from sparse matrix format to data frame \n",
    "train_neg_df = pd.DataFrame.sparse.from_spmatrix(X_train_neg)\n",
    "train_neg_df.columns = vectorizer.get_feature_names()\n",
    "\n",
    "test_neg_df = pd.DataFrame.sparse.from_spmatrix(X_test_neg)\n",
    "test_neg_df.columns = vectorizer.get_feature_names()\n",
    "\n",
    "X_train_pos = vectorizer.fit_transform(X_train.Positive_Review)\n",
    "train_pos_df = pd.DataFrame.sparse.from_spmatrix(X_train_pos)\n",
    "train_pos_df.columns = vectorizer.get_feature_names()\n",
    "\n",
    "X_test_pos = vectorizer.transform(X_test.Positive_Review)\n",
    "test_pos_df = pd.DataFrame.sparse.from_spmatrix(X_test_pos)\n",
    "\n",
    "train_pos_df = pd.DataFrame.sparse.from_spmatrix(X_train_pos)\n",
    "train_pos_df.columns = vectorizer.get_feature_names()\n",
    "\n",
    "test_pos_df = pd.DataFrame.sparse.from_spmatrix(X_test_pos)\n",
    "test_pos_df.columns = vectorizer.get_feature_names()\n",
    "\n",
    "X_train.drop(['Negative_Review', 'Positive_Review'], axis=1, inplace=True)\n",
    "X_train.reset_index(drop=True, inplace=True)\n",
    "X_train = pd.concat([X_train, train_neg_df, train_pos_df], axis=1)\n",
    "\n",
    "X_test.drop(['Negative_Review', 'Positive_Review'], axis=1, inplace=True)\n",
    "X_test.reset_index(drop=True, inplace=True)\n",
    "X_test = pd.concat([X_test, test_neg_df, test_pos_df], axis=1)\n",
    "\n",
    "from sklearn.linear_model import LogisticRegression\n",
    "lr = LogisticRegression().fit(X_train, y_train)\n",
    "print(lr.score(X_train, y_train))\n",
    "print(lr.score(X_test, y_test))"
   ]
  },
  {
   "cell_type": "markdown",
   "metadata": {},
   "source": [
    "The run time for both cases were reasonable in order of a few minutes and the results suggests that changing this parameter in this range has minimal effect on accuracies."
   ]
  }
 ],
 "metadata": {
  "kernelspec": {
   "display_name": "Python 3",
   "language": "python",
   "name": "python3"
  },
  "language_info": {
   "codemirror_mode": {
    "name": "ipython",
    "version": 3
   },
   "file_extension": ".py",
   "mimetype": "text/x-python",
   "name": "python",
   "nbconvert_exporter": "python",
   "pygments_lexer": "ipython3",
   "version": "3.7.4"
  },
  "toc": {
   "base_numbering": 1,
   "nav_menu": {},
   "number_sections": true,
   "sideBar": true,
   "skip_h1_title": false,
   "title_cell": "Table of Contents",
   "title_sidebar": "Contents",
   "toc_cell": true,
   "toc_position": {},
   "toc_section_display": true,
   "toc_window_display": true
  }
 },
 "nbformat": 4,
 "nbformat_minor": 2
}
