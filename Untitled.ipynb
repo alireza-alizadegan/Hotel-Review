{
 "cells": [
  {
   "cell_type": "code",
   "execution_count": null,
   "metadata": {},
   "outputs": [],
   "source": [
    "X_train, X_test, y_train, y_test = train_test_split(X, y, test_size=0.25, random_state=42)\n",
    "\n",
    "# vectorize train and test data into data frames\n",
    "from sklearn.feature_extraction.text import TfidfVectorizer\n",
    "import scipy.sparse\n",
    "\n",
    "vectorizer = TfidfVectorizer(min_df=5, tokenizer=case_punc_stop_lemm)\n",
    "X_train_neg = vectorizer.fit_transform(X_train.Negative_Review)\n",
    "X_test_neg = vectorizer.transform(X_test.Negative_Review)\n",
    "\n",
    "# validate frequently appearing words in form of data frame\n",
    "words = vectorizer.get_feature_names()\n",
    "weights = np.array(X_train_neg.sum(axis=0)).reshape(-1,)\n",
    "word_weight_df = pd.DataFrame({'word': words, 'weight': weights})\n",
    "word_weight_df.sort_values(by='weight', ascending=False, inplace=True)\n",
    "word_weight_df.reset_index(drop=True).head(10)\n",
    "\n",
    "# transform results from sparse matrix format to data frame \n",
    "train_neg_df = pd.DataFrame.sparse.from_spmatrix(X_train_neg)\n",
    "train_neg_df.columns = vectorizer.get_feature_names()\n",
    "\n",
    "test_neg_df = pd.DataFrame.sparse.from_spmatrix(X_test_neg)\n",
    "test_neg_df.columns = vectorizer.get_feature_names()\n",
    "\n",
    "X_train_pos = vectorizer.fit_transform(X_train.Positive_Review)\n",
    "train_pos_df = pd.DataFrame.sparse.from_spmatrix(X_train_pos)\n",
    "train_pos_df.columns = vectorizer.get_feature_names()\n",
    "\n",
    "X_test_pos = vectorizer.transform(X_test.Positive_Review)\n",
    "test_pos_df = pd.DataFrame.sparse.from_spmatrix(X_test_pos)\n",
    "\n",
    "train_pos_df = pd.DataFrame.sparse.from_spmatrix(X_train_pos)\n",
    "train_pos_df.columns = vectorizer.get_feature_names()\n",
    "\n",
    "test_pos_df = pd.DataFrame.sparse.from_spmatrix(X_test_pos)\n",
    "test_pos_df.columns = vectorizer.get_feature_names()\n",
    "\n",
    "X_train.drop(['Negative_Review', 'Positive_Review'], axis=1, inplace=True)\n",
    "X_train.reset_index(drop=True, inplace=True)\n",
    "X_train = pd.concat([X_train, train_neg_df, train_pos_df], axis=1)\n",
    "\n",
    "X_test.drop(['Negative_Review', 'Positive_Review'], axis=1, inplace=True)\n",
    "X_test.reset_index(drop=True, inplace=True)\n",
    "X_test = pd.concat([X_test, test_neg_df, test_pos_df], axis=1)\n",
    "\n",
    "from sklearn.linear_model import LogisticRegression\n",
    "lr = LogisticRegression().fit(X_train, y_train)\n",
    "print(lr.score(X_train, y_train))\n",
    "print(lr.score(X_test, y_test))"
   ]
  }
 ],
 "metadata": {
  "kernelspec": {
   "display_name": "Python 3",
   "language": "python",
   "name": "python3"
  },
  "language_info": {
   "codemirror_mode": {
    "name": "ipython",
    "version": 3
   },
   "file_extension": ".py",
   "mimetype": "text/x-python",
   "name": "python",
   "nbconvert_exporter": "python",
   "pygments_lexer": "ipython3",
   "version": "3.7.4"
  }
 },
 "nbformat": 4,
 "nbformat_minor": 2
}
